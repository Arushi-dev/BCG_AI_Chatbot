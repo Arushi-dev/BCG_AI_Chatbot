{
 "cells": [
  {
   "cell_type": "code",
   "execution_count": 1,
   "id": "f3922e8f-ccfe-4b20-9cc6-30d92d29469e",
   "metadata": {},
   "outputs": [
    {
     "ename": "ModuleNotFoundError",
     "evalue": "No module named 'pandas'",
     "output_type": "error",
     "traceback": [
      "\u001b[0;31m---------------------------------------------------------------------------\u001b[0m",
      "\u001b[0;31mModuleNotFoundError\u001b[0m                       Traceback (most recent call last)",
      "Cell \u001b[0;32mIn[1], line 1\u001b[0m\n\u001b[0;32m----> 1\u001b[0m \u001b[38;5;28;01mimport\u001b[39;00m \u001b[38;5;21;01mpandas\u001b[39;00m \u001b[38;5;28;01mas\u001b[39;00m \u001b[38;5;21;01mpd\u001b[39;00m\n",
      "\u001b[0;31mModuleNotFoundError\u001b[0m: No module named 'pandas'"
     ]
    }
   ],
   "source": [
    "import pandas as pd\n",
    "\n"
   ]
  },
  {
   "cell_type": "code",
   "execution_count": 2,
   "id": "4fb5a3fc-b810-4012-bdbd-71fd341f0215",
   "metadata": {},
   "outputs": [
    {
     "ename": "ModuleNotFoundError",
     "evalue": "No module named 'pandas'",
     "output_type": "error",
     "traceback": [
      "\u001b[0;31m---------------------------------------------------------------------------\u001b[0m",
      "\u001b[0;31mModuleNotFoundError\u001b[0m                       Traceback (most recent call last)",
      "Cell \u001b[0;32mIn[2], line 1\u001b[0m\n\u001b[0;32m----> 1\u001b[0m \u001b[38;5;28;01mimport\u001b[39;00m \u001b[38;5;21;01mpandas\u001b[39;00m \u001b[38;5;28;01mas\u001b[39;00m \u001b[38;5;21;01mpd\u001b[39;00m\n",
      "\u001b[0;31mModuleNotFoundError\u001b[0m: No module named 'pandas'"
     ]
    }
   ],
   "source": [
    "import pandas as pd\n"
   ]
  },
  {
   "cell_type": "code",
   "execution_count": 3,
   "id": "88557f0f-846a-4b00-8320-939940ecaa94",
   "metadata": {},
   "outputs": [
    {
     "name": "stdout",
     "output_type": "stream",
     "text": [
      "Collecting pandas\n",
      "  Downloading pandas-2.2.1-cp39-cp39-macosx_10_9_x86_64.whl (12.6 MB)\n",
      "\u001b[K     |████████████████████████████████| 12.6 MB 12.4 MB/s eta 0:00:01\n",
      "\u001b[?25hCollecting numpy<2,>=1.22.4\n",
      "  Downloading numpy-1.26.4-cp39-cp39-macosx_10_9_x86_64.whl (20.6 MB)\n",
      "\u001b[K     |████████████████████████████████| 20.6 MB 2.6 MB/s eta 0:00:01\n",
      "\u001b[?25hCollecting pytz>=2020.1\n",
      "  Downloading pytz-2024.1-py2.py3-none-any.whl (505 kB)\n",
      "\u001b[K     |████████████████████████████████| 505 kB 19.0 MB/s eta 0:00:01\n",
      "\u001b[?25hCollecting tzdata>=2022.7\n",
      "  Downloading tzdata-2024.1-py2.py3-none-any.whl (345 kB)\n",
      "\u001b[K     |████████████████████████████████| 345 kB 18.3 MB/s eta 0:00:01\n",
      "\u001b[?25hRequirement already satisfied: python-dateutil>=2.8.2 in /Library/Frameworks/Python.framework/Versions/3.9/lib/python3.9/site-packages (from pandas) (2.9.0.post0)\n",
      "Requirement already satisfied: six>=1.5 in /Library/Frameworks/Python.framework/Versions/3.9/lib/python3.9/site-packages (from python-dateutil>=2.8.2->pandas) (1.15.0)\n",
      "Installing collected packages: tzdata, pytz, numpy, pandas\n",
      "Successfully installed numpy-1.26.4 pandas-2.2.1 pytz-2024.1 tzdata-2024.1\n",
      "\u001b[33mWARNING: You are using pip version 21.0.1; however, version 24.0 is available.\n",
      "You should consider upgrading via the '/Library/Frameworks/Python.framework/Versions/3.9/bin/python3 -m pip install --upgrade pip' command.\u001b[0m\n",
      "Note: you may need to restart the kernel to use updated packages.\n"
     ]
    }
   ],
   "source": [
    "pip install pandas\n"
   ]
  },
  {
   "cell_type": "code",
   "execution_count": 1,
   "id": "32680262-2837-4024-b510-b7237eb69fb9",
   "metadata": {},
   "outputs": [
    {
     "name": "stdout",
     "output_type": "stream",
     "text": [
      "     Company  Fiscal Year Total Revenue(millions) Net income(millions)  \\\n",
      "0  Microsoft         2023                2,11,915               72,361   \n",
      "1  Microsoft         2022                1,98,270               72,738   \n",
      "2  Microsoft         2021                1,68,088               61,271   \n",
      "3      Tesla         2023                  96,773               14,974   \n",
      "4      Tesla         2022                  81,462               12,587   \n",
      "\n",
      "  Total Assets(millions) Total liabilities(millions)  \\\n",
      "0               4,11,976                    2,05,753   \n",
      "1               3,64,840                    1,98,298   \n",
      "2               3,33,779                    1,91,791   \n",
      "3               1,06,618                      43,009   \n",
      "4                 82,338                      36,440   \n",
      "\n",
      "  CashFlow from Operating Activities(millions)  \n",
      "0                                       87,582  \n",
      "1                                       89,035  \n",
      "2                                       76,740  \n",
      "3                                       13,256  \n",
      "4                                       14,724  \n"
     ]
    }
   ],
   "source": [
    "import pandas as pd\n",
    "\n",
    "# Define the file path\n",
    "file_path = '/Users/rudra/Downloads/10-k fillings BCG.csv'\n",
    "\n",
    "# Read the CSV file into a pandas DataFrame\n",
    "df = pd.read_csv(file_path)\n",
    "\n",
    "# Display the first few rows of the DataFrame to verify that the data has been loaded correctly\n",
    "print(df.head())\n"
   ]
  },
  {
   "cell_type": "code",
   "execution_count": 2,
   "id": "a0a31e82-ae2a-4cd8-a287-f2505e4af04d",
   "metadata": {},
   "outputs": [
    {
     "ename": "KeyError",
     "evalue": "'Column not found: Total Revenue'",
     "output_type": "error",
     "traceback": [
      "\u001b[0;31m---------------------------------------------------------------------------\u001b[0m",
      "\u001b[0;31mKeyError\u001b[0m                                  Traceback (most recent call last)",
      "Cell \u001b[0;32mIn[2], line 1\u001b[0m\n\u001b[0;32m----> 1\u001b[0m df[\u001b[38;5;124m'\u001b[39m\u001b[38;5;124mRevenue Growth (\u001b[39m\u001b[38;5;124m%\u001b[39m\u001b[38;5;124m)\u001b[39m\u001b[38;5;124m'\u001b[39m] \u001b[38;5;241m=\u001b[39m \u001b[43mdf\u001b[49m\u001b[38;5;241;43m.\u001b[39;49m\u001b[43mgroupby\u001b[49m\u001b[43m(\u001b[49m\u001b[43m[\u001b[49m\u001b[38;5;124;43m'\u001b[39;49m\u001b[38;5;124;43mCompany\u001b[39;49m\u001b[38;5;124;43m'\u001b[39;49m\u001b[43m]\u001b[49m\u001b[43m)\u001b[49m\u001b[43m[\u001b[49m\u001b[38;5;124;43m'\u001b[39;49m\u001b[38;5;124;43mTotal Revenue\u001b[39;49m\u001b[38;5;124;43m'\u001b[39;49m\u001b[43m]\u001b[49m\u001b[38;5;241m.\u001b[39mpct_change() \u001b[38;5;241m*\u001b[39m \u001b[38;5;241m100\u001b[39m\n\u001b[1;32m      2\u001b[0m df[\u001b[38;5;124m'\u001b[39m\u001b[38;5;124mNet Income Growth (\u001b[39m\u001b[38;5;124m%\u001b[39m\u001b[38;5;124m)\u001b[39m\u001b[38;5;124m'\u001b[39m] \u001b[38;5;241m=\u001b[39m df\u001b[38;5;241m.\u001b[39mgroupby([\u001b[38;5;124m'\u001b[39m\u001b[38;5;124mCompany\u001b[39m\u001b[38;5;124m'\u001b[39m])[\u001b[38;5;124m'\u001b[39m\u001b[38;5;124mNet Income\u001b[39m\u001b[38;5;124m'\u001b[39m]\u001b[38;5;241m.\u001b[39mpct_change() \u001b[38;5;241m*\u001b[39m \u001b[38;5;241m100\u001b[39m\n",
      "File \u001b[0;32m/Library/Frameworks/Python.framework/Versions/3.9/lib/python3.9/site-packages/pandas/core/groupby/generic.py:1951\u001b[0m, in \u001b[0;36mDataFrameGroupBy.__getitem__\u001b[0;34m(self, key)\u001b[0m\n\u001b[1;32m   1944\u001b[0m \u001b[38;5;28;01mif\u001b[39;00m \u001b[38;5;28misinstance\u001b[39m(key, \u001b[38;5;28mtuple\u001b[39m) \u001b[38;5;129;01mand\u001b[39;00m \u001b[38;5;28mlen\u001b[39m(key) \u001b[38;5;241m>\u001b[39m \u001b[38;5;241m1\u001b[39m:\n\u001b[1;32m   1945\u001b[0m     \u001b[38;5;66;03m# if len == 1, then it becomes a SeriesGroupBy and this is actually\u001b[39;00m\n\u001b[1;32m   1946\u001b[0m     \u001b[38;5;66;03m# valid syntax, so don't raise\u001b[39;00m\n\u001b[1;32m   1947\u001b[0m     \u001b[38;5;28;01mraise\u001b[39;00m \u001b[38;5;167;01mValueError\u001b[39;00m(\n\u001b[1;32m   1948\u001b[0m         \u001b[38;5;124m\"\u001b[39m\u001b[38;5;124mCannot subset columns with a tuple with more than one element. \u001b[39m\u001b[38;5;124m\"\u001b[39m\n\u001b[1;32m   1949\u001b[0m         \u001b[38;5;124m\"\u001b[39m\u001b[38;5;124mUse a list instead.\u001b[39m\u001b[38;5;124m\"\u001b[39m\n\u001b[1;32m   1950\u001b[0m     )\n\u001b[0;32m-> 1951\u001b[0m \u001b[38;5;28;01mreturn\u001b[39;00m \u001b[38;5;28;43msuper\u001b[39;49m\u001b[43m(\u001b[49m\u001b[43m)\u001b[49m\u001b[38;5;241;43m.\u001b[39;49m\u001b[38;5;21;43m__getitem__\u001b[39;49m\u001b[43m(\u001b[49m\u001b[43mkey\u001b[49m\u001b[43m)\u001b[49m\n",
      "File \u001b[0;32m/Library/Frameworks/Python.framework/Versions/3.9/lib/python3.9/site-packages/pandas/core/base.py:244\u001b[0m, in \u001b[0;36mSelectionMixin.__getitem__\u001b[0;34m(self, key)\u001b[0m\n\u001b[1;32m    242\u001b[0m \u001b[38;5;28;01melse\u001b[39;00m:\n\u001b[1;32m    243\u001b[0m     \u001b[38;5;28;01mif\u001b[39;00m key \u001b[38;5;129;01mnot\u001b[39;00m \u001b[38;5;129;01min\u001b[39;00m \u001b[38;5;28mself\u001b[39m\u001b[38;5;241m.\u001b[39mobj:\n\u001b[0;32m--> 244\u001b[0m         \u001b[38;5;28;01mraise\u001b[39;00m \u001b[38;5;167;01mKeyError\u001b[39;00m(\u001b[38;5;124mf\u001b[39m\u001b[38;5;124m\"\u001b[39m\u001b[38;5;124mColumn not found: \u001b[39m\u001b[38;5;132;01m{\u001b[39;00mkey\u001b[38;5;132;01m}\u001b[39;00m\u001b[38;5;124m\"\u001b[39m)\n\u001b[1;32m    245\u001b[0m     ndim \u001b[38;5;241m=\u001b[39m \u001b[38;5;28mself\u001b[39m\u001b[38;5;241m.\u001b[39mobj[key]\u001b[38;5;241m.\u001b[39mndim\n\u001b[1;32m    246\u001b[0m     \u001b[38;5;28;01mreturn\u001b[39;00m \u001b[38;5;28mself\u001b[39m\u001b[38;5;241m.\u001b[39m_gotitem(key, ndim\u001b[38;5;241m=\u001b[39mndim)\n",
      "\u001b[0;31mKeyError\u001b[0m: 'Column not found: Total Revenue'"
     ]
    }
   ],
   "source": [
    "df['Revenue Growth (%)'] = df.groupby(['Company'])['Total Revenue'].pct_change() * 100\n",
    "df['Net Income Growth (%)'] = df.groupby(['Company'])['Net Income'].pct_change() * 100\n"
   ]
  },
  {
   "cell_type": "code",
   "execution_count": 3,
   "id": "4359b24a-3ac9-4ac6-9d3f-1a2b10e4bab2",
   "metadata": {},
   "outputs": [
    {
     "name": "stdout",
     "output_type": "stream",
     "text": [
      "Index(['Company', 'Fiscal Year', 'Total Revenue(millions)',\n",
      "       'Net income(millions)', 'Total Assets(millions)',\n",
      "       'Total liabilities(millions)',\n",
      "       'CashFlow from Operating Activities(millions)'],\n",
      "      dtype='object')\n"
     ]
    }
   ],
   "source": [
    "print(df.columns)\n"
   ]
  },
  {
   "cell_type": "code",
   "execution_count": 4,
   "id": "2a7be35a-b5f5-44e4-b451-b336c0b27878",
   "metadata": {},
   "outputs": [
    {
     "ename": "TypeError",
     "evalue": "unsupported operand type(s) for /: 'str' and 'str'",
     "output_type": "error",
     "traceback": [
      "\u001b[0;31m---------------------------------------------------------------------------\u001b[0m",
      "\u001b[0;31mTypeError\u001b[0m                                 Traceback (most recent call last)",
      "File \u001b[0;32m/Library/Frameworks/Python.framework/Versions/3.9/lib/python3.9/site-packages/pandas/core/ops/array_ops.py:218\u001b[0m, in \u001b[0;36m_na_arithmetic_op\u001b[0;34m(left, right, op, is_cmp)\u001b[0m\n\u001b[1;32m    217\u001b[0m \u001b[38;5;28;01mtry\u001b[39;00m:\n\u001b[0;32m--> 218\u001b[0m     result \u001b[38;5;241m=\u001b[39m \u001b[43mfunc\u001b[49m\u001b[43m(\u001b[49m\u001b[43mleft\u001b[49m\u001b[43m,\u001b[49m\u001b[43m \u001b[49m\u001b[43mright\u001b[49m\u001b[43m)\u001b[49m\n\u001b[1;32m    219\u001b[0m \u001b[38;5;28;01mexcept\u001b[39;00m \u001b[38;5;167;01mTypeError\u001b[39;00m:\n",
      "File \u001b[0;32m/Library/Frameworks/Python.framework/Versions/3.9/lib/python3.9/site-packages/pandas/core/computation/expressions.py:242\u001b[0m, in \u001b[0;36mevaluate\u001b[0;34m(op, a, b, use_numexpr)\u001b[0m\n\u001b[1;32m    240\u001b[0m     \u001b[38;5;28;01mif\u001b[39;00m use_numexpr:\n\u001b[1;32m    241\u001b[0m         \u001b[38;5;66;03m# error: \"None\" not callable\u001b[39;00m\n\u001b[0;32m--> 242\u001b[0m         \u001b[38;5;28;01mreturn\u001b[39;00m \u001b[43m_evaluate\u001b[49m\u001b[43m(\u001b[49m\u001b[43mop\u001b[49m\u001b[43m,\u001b[49m\u001b[43m \u001b[49m\u001b[43mop_str\u001b[49m\u001b[43m,\u001b[49m\u001b[43m \u001b[49m\u001b[43ma\u001b[49m\u001b[43m,\u001b[49m\u001b[43m \u001b[49m\u001b[43mb\u001b[49m\u001b[43m)\u001b[49m  \u001b[38;5;66;03m# type: ignore[misc]\u001b[39;00m\n\u001b[1;32m    243\u001b[0m \u001b[38;5;28;01mreturn\u001b[39;00m _evaluate_standard(op, op_str, a, b)\n",
      "File \u001b[0;32m/Library/Frameworks/Python.framework/Versions/3.9/lib/python3.9/site-packages/pandas/core/computation/expressions.py:73\u001b[0m, in \u001b[0;36m_evaluate_standard\u001b[0;34m(op, op_str, a, b)\u001b[0m\n\u001b[1;32m     72\u001b[0m     _store_test_result(\u001b[38;5;28;01mFalse\u001b[39;00m)\n\u001b[0;32m---> 73\u001b[0m \u001b[38;5;28;01mreturn\u001b[39;00m \u001b[43mop\u001b[49m\u001b[43m(\u001b[49m\u001b[43ma\u001b[49m\u001b[43m,\u001b[49m\u001b[43m \u001b[49m\u001b[43mb\u001b[49m\u001b[43m)\u001b[49m\n",
      "\u001b[0;31mTypeError\u001b[0m: unsupported operand type(s) for /: 'str' and 'float'",
      "\nDuring handling of the above exception, another exception occurred:\n",
      "\u001b[0;31mTypeError\u001b[0m                                 Traceback (most recent call last)",
      "Cell \u001b[0;32mIn[4], line 2\u001b[0m\n\u001b[1;32m      1\u001b[0m \u001b[38;5;66;03m# Calculate year-over-year growth for Total Revenue\u001b[39;00m\n\u001b[0;32m----> 2\u001b[0m df[\u001b[38;5;124m'\u001b[39m\u001b[38;5;124mRevenue Growth (\u001b[39m\u001b[38;5;124m%\u001b[39m\u001b[38;5;124m)\u001b[39m\u001b[38;5;124m'\u001b[39m] \u001b[38;5;241m=\u001b[39m \u001b[43mdf\u001b[49m\u001b[38;5;241;43m.\u001b[39;49m\u001b[43mgroupby\u001b[49m\u001b[43m(\u001b[49m\u001b[43m[\u001b[49m\u001b[38;5;124;43m'\u001b[39;49m\u001b[38;5;124;43mCompany\u001b[39;49m\u001b[38;5;124;43m'\u001b[39;49m\u001b[43m]\u001b[49m\u001b[43m)\u001b[49m\u001b[43m[\u001b[49m\u001b[38;5;124;43m'\u001b[39;49m\u001b[38;5;124;43mTotal Revenue(millions)\u001b[39;49m\u001b[38;5;124;43m'\u001b[39;49m\u001b[43m]\u001b[49m\u001b[38;5;241;43m.\u001b[39;49m\u001b[43mpct_change\u001b[49m\u001b[43m(\u001b[49m\u001b[43m)\u001b[49m \u001b[38;5;241m*\u001b[39m \u001b[38;5;241m100\u001b[39m\n\u001b[1;32m      4\u001b[0m \u001b[38;5;66;03m# Calculate year-over-year growth for Net Income\u001b[39;00m\n\u001b[1;32m      5\u001b[0m df[\u001b[38;5;124m'\u001b[39m\u001b[38;5;124mNet Income Growth (\u001b[39m\u001b[38;5;124m%\u001b[39m\u001b[38;5;124m)\u001b[39m\u001b[38;5;124m'\u001b[39m] \u001b[38;5;241m=\u001b[39m df\u001b[38;5;241m.\u001b[39mgroupby([\u001b[38;5;124m'\u001b[39m\u001b[38;5;124mCompany\u001b[39m\u001b[38;5;124m'\u001b[39m])[\u001b[38;5;124m'\u001b[39m\u001b[38;5;124mNet income(millions)\u001b[39m\u001b[38;5;124m'\u001b[39m]\u001b[38;5;241m.\u001b[39mpct_change() \u001b[38;5;241m*\u001b[39m \u001b[38;5;241m100\u001b[39m\n",
      "File \u001b[0;32m/Library/Frameworks/Python.framework/Versions/3.9/lib/python3.9/site-packages/pandas/core/groupby/groupby.py:5459\u001b[0m, in \u001b[0;36mGroupBy.pct_change\u001b[0;34m(self, periods, fill_method, limit, freq, axis)\u001b[0m\n\u001b[1;32m   5457\u001b[0m \u001b[38;5;28;01mif\u001b[39;00m \u001b[38;5;28mself\u001b[39m\u001b[38;5;241m.\u001b[39maxis \u001b[38;5;241m==\u001b[39m \u001b[38;5;241m1\u001b[39m:\n\u001b[1;32m   5458\u001b[0m     shifted \u001b[38;5;241m=\u001b[39m shifted\u001b[38;5;241m.\u001b[39mT\n\u001b[0;32m-> 5459\u001b[0m \u001b[38;5;28;01mreturn\u001b[39;00m (\u001b[43mfilled\u001b[49m\u001b[43m \u001b[49m\u001b[38;5;241;43m/\u001b[39;49m\u001b[43m \u001b[49m\u001b[43mshifted\u001b[49m) \u001b[38;5;241m-\u001b[39m \u001b[38;5;241m1\u001b[39m\n",
      "File \u001b[0;32m/Library/Frameworks/Python.framework/Versions/3.9/lib/python3.9/site-packages/pandas/core/ops/common.py:76\u001b[0m, in \u001b[0;36m_unpack_zerodim_and_defer.<locals>.new_method\u001b[0;34m(self, other)\u001b[0m\n\u001b[1;32m     72\u001b[0m             \u001b[38;5;28;01mreturn\u001b[39;00m \u001b[38;5;28mNotImplemented\u001b[39m\n\u001b[1;32m     74\u001b[0m other \u001b[38;5;241m=\u001b[39m item_from_zerodim(other)\n\u001b[0;32m---> 76\u001b[0m \u001b[38;5;28;01mreturn\u001b[39;00m \u001b[43mmethod\u001b[49m\u001b[43m(\u001b[49m\u001b[38;5;28;43mself\u001b[39;49m\u001b[43m,\u001b[49m\u001b[43m \u001b[49m\u001b[43mother\u001b[49m\u001b[43m)\u001b[49m\n",
      "File \u001b[0;32m/Library/Frameworks/Python.framework/Versions/3.9/lib/python3.9/site-packages/pandas/core/arraylike.py:210\u001b[0m, in \u001b[0;36mOpsMixin.__truediv__\u001b[0;34m(self, other)\u001b[0m\n\u001b[1;32m    208\u001b[0m \u001b[38;5;129m@unpack_zerodim_and_defer\u001b[39m(\u001b[38;5;124m\"\u001b[39m\u001b[38;5;124m__truediv__\u001b[39m\u001b[38;5;124m\"\u001b[39m)\n\u001b[1;32m    209\u001b[0m \u001b[38;5;28;01mdef\u001b[39;00m \u001b[38;5;21m__truediv__\u001b[39m(\u001b[38;5;28mself\u001b[39m, other):\n\u001b[0;32m--> 210\u001b[0m     \u001b[38;5;28;01mreturn\u001b[39;00m \u001b[38;5;28;43mself\u001b[39;49m\u001b[38;5;241;43m.\u001b[39;49m\u001b[43m_arith_method\u001b[49m\u001b[43m(\u001b[49m\u001b[43mother\u001b[49m\u001b[43m,\u001b[49m\u001b[43m \u001b[49m\u001b[43moperator\u001b[49m\u001b[38;5;241;43m.\u001b[39;49m\u001b[43mtruediv\u001b[49m\u001b[43m)\u001b[49m\n",
      "File \u001b[0;32m/Library/Frameworks/Python.framework/Versions/3.9/lib/python3.9/site-packages/pandas/core/series.py:6126\u001b[0m, in \u001b[0;36mSeries._arith_method\u001b[0;34m(self, other, op)\u001b[0m\n\u001b[1;32m   6124\u001b[0m \u001b[38;5;28;01mdef\u001b[39;00m \u001b[38;5;21m_arith_method\u001b[39m(\u001b[38;5;28mself\u001b[39m, other, op):\n\u001b[1;32m   6125\u001b[0m     \u001b[38;5;28mself\u001b[39m, other \u001b[38;5;241m=\u001b[39m \u001b[38;5;28mself\u001b[39m\u001b[38;5;241m.\u001b[39m_align_for_op(other)\n\u001b[0;32m-> 6126\u001b[0m     \u001b[38;5;28;01mreturn\u001b[39;00m \u001b[43mbase\u001b[49m\u001b[38;5;241;43m.\u001b[39;49m\u001b[43mIndexOpsMixin\u001b[49m\u001b[38;5;241;43m.\u001b[39;49m\u001b[43m_arith_method\u001b[49m\u001b[43m(\u001b[49m\u001b[38;5;28;43mself\u001b[39;49m\u001b[43m,\u001b[49m\u001b[43m \u001b[49m\u001b[43mother\u001b[49m\u001b[43m,\u001b[49m\u001b[43m \u001b[49m\u001b[43mop\u001b[49m\u001b[43m)\u001b[49m\n",
      "File \u001b[0;32m/Library/Frameworks/Python.framework/Versions/3.9/lib/python3.9/site-packages/pandas/core/base.py:1382\u001b[0m, in \u001b[0;36mIndexOpsMixin._arith_method\u001b[0;34m(self, other, op)\u001b[0m\n\u001b[1;32m   1379\u001b[0m     rvalues \u001b[38;5;241m=\u001b[39m np\u001b[38;5;241m.\u001b[39marange(rvalues\u001b[38;5;241m.\u001b[39mstart, rvalues\u001b[38;5;241m.\u001b[39mstop, rvalues\u001b[38;5;241m.\u001b[39mstep)\n\u001b[1;32m   1381\u001b[0m \u001b[38;5;28;01mwith\u001b[39;00m np\u001b[38;5;241m.\u001b[39merrstate(\u001b[38;5;28mall\u001b[39m\u001b[38;5;241m=\u001b[39m\u001b[38;5;124m\"\u001b[39m\u001b[38;5;124mignore\u001b[39m\u001b[38;5;124m\"\u001b[39m):\n\u001b[0;32m-> 1382\u001b[0m     result \u001b[38;5;241m=\u001b[39m \u001b[43mops\u001b[49m\u001b[38;5;241;43m.\u001b[39;49m\u001b[43marithmetic_op\u001b[49m\u001b[43m(\u001b[49m\u001b[43mlvalues\u001b[49m\u001b[43m,\u001b[49m\u001b[43m \u001b[49m\u001b[43mrvalues\u001b[49m\u001b[43m,\u001b[49m\u001b[43m \u001b[49m\u001b[43mop\u001b[49m\u001b[43m)\u001b[49m\n\u001b[1;32m   1384\u001b[0m \u001b[38;5;28;01mreturn\u001b[39;00m \u001b[38;5;28mself\u001b[39m\u001b[38;5;241m.\u001b[39m_construct_result(result, name\u001b[38;5;241m=\u001b[39mres_name)\n",
      "File \u001b[0;32m/Library/Frameworks/Python.framework/Versions/3.9/lib/python3.9/site-packages/pandas/core/ops/array_ops.py:283\u001b[0m, in \u001b[0;36marithmetic_op\u001b[0;34m(left, right, op)\u001b[0m\n\u001b[1;32m    279\u001b[0m     _bool_arith_check(op, left, right)  \u001b[38;5;66;03m# type: ignore[arg-type]\u001b[39;00m\n\u001b[1;32m    281\u001b[0m     \u001b[38;5;66;03m# error: Argument 1 to \"_na_arithmetic_op\" has incompatible type\u001b[39;00m\n\u001b[1;32m    282\u001b[0m     \u001b[38;5;66;03m# \"Union[ExtensionArray, ndarray[Any, Any]]\"; expected \"ndarray[Any, Any]\"\u001b[39;00m\n\u001b[0;32m--> 283\u001b[0m     res_values \u001b[38;5;241m=\u001b[39m \u001b[43m_na_arithmetic_op\u001b[49m\u001b[43m(\u001b[49m\u001b[43mleft\u001b[49m\u001b[43m,\u001b[49m\u001b[43m \u001b[49m\u001b[43mright\u001b[49m\u001b[43m,\u001b[49m\u001b[43m \u001b[49m\u001b[43mop\u001b[49m\u001b[43m)\u001b[49m  \u001b[38;5;66;03m# type: ignore[arg-type]\u001b[39;00m\n\u001b[1;32m    285\u001b[0m \u001b[38;5;28;01mreturn\u001b[39;00m res_values\n",
      "File \u001b[0;32m/Library/Frameworks/Python.framework/Versions/3.9/lib/python3.9/site-packages/pandas/core/ops/array_ops.py:227\u001b[0m, in \u001b[0;36m_na_arithmetic_op\u001b[0;34m(left, right, op, is_cmp)\u001b[0m\n\u001b[1;32m    219\u001b[0m \u001b[38;5;28;01mexcept\u001b[39;00m \u001b[38;5;167;01mTypeError\u001b[39;00m:\n\u001b[1;32m    220\u001b[0m     \u001b[38;5;28;01mif\u001b[39;00m \u001b[38;5;129;01mnot\u001b[39;00m is_cmp \u001b[38;5;129;01mand\u001b[39;00m (\n\u001b[1;32m    221\u001b[0m         left\u001b[38;5;241m.\u001b[39mdtype \u001b[38;5;241m==\u001b[39m \u001b[38;5;28mobject\u001b[39m \u001b[38;5;129;01mor\u001b[39;00m \u001b[38;5;28mgetattr\u001b[39m(right, \u001b[38;5;124m\"\u001b[39m\u001b[38;5;124mdtype\u001b[39m\u001b[38;5;124m\"\u001b[39m, \u001b[38;5;28;01mNone\u001b[39;00m) \u001b[38;5;241m==\u001b[39m \u001b[38;5;28mobject\u001b[39m\n\u001b[1;32m    222\u001b[0m     ):\n\u001b[0;32m   (...)\u001b[0m\n\u001b[1;32m    225\u001b[0m         \u001b[38;5;66;03m# Don't do this for comparisons, as that will handle complex numbers\u001b[39;00m\n\u001b[1;32m    226\u001b[0m         \u001b[38;5;66;03m#  incorrectly, see GH#32047\u001b[39;00m\n\u001b[0;32m--> 227\u001b[0m         result \u001b[38;5;241m=\u001b[39m \u001b[43m_masked_arith_op\u001b[49m\u001b[43m(\u001b[49m\u001b[43mleft\u001b[49m\u001b[43m,\u001b[49m\u001b[43m \u001b[49m\u001b[43mright\u001b[49m\u001b[43m,\u001b[49m\u001b[43m \u001b[49m\u001b[43mop\u001b[49m\u001b[43m)\u001b[49m\n\u001b[1;32m    228\u001b[0m     \u001b[38;5;28;01melse\u001b[39;00m:\n\u001b[1;32m    229\u001b[0m         \u001b[38;5;28;01mraise\u001b[39;00m\n",
      "File \u001b[0;32m/Library/Frameworks/Python.framework/Versions/3.9/lib/python3.9/site-packages/pandas/core/ops/array_ops.py:163\u001b[0m, in \u001b[0;36m_masked_arith_op\u001b[0;34m(x, y, op)\u001b[0m\n\u001b[1;32m    161\u001b[0m     \u001b[38;5;66;03m# See GH#5284, GH#5035, GH#19448 for historical reference\u001b[39;00m\n\u001b[1;32m    162\u001b[0m     \u001b[38;5;28;01mif\u001b[39;00m mask\u001b[38;5;241m.\u001b[39many():\n\u001b[0;32m--> 163\u001b[0m         result[mask] \u001b[38;5;241m=\u001b[39m \u001b[43mop\u001b[49m\u001b[43m(\u001b[49m\u001b[43mxrav\u001b[49m\u001b[43m[\u001b[49m\u001b[43mmask\u001b[49m\u001b[43m]\u001b[49m\u001b[43m,\u001b[49m\u001b[43m \u001b[49m\u001b[43myrav\u001b[49m\u001b[43m[\u001b[49m\u001b[43mmask\u001b[49m\u001b[43m]\u001b[49m\u001b[43m)\u001b[49m\n\u001b[1;32m    165\u001b[0m \u001b[38;5;28;01melse\u001b[39;00m:\n\u001b[1;32m    166\u001b[0m     \u001b[38;5;28;01mif\u001b[39;00m \u001b[38;5;129;01mnot\u001b[39;00m is_scalar(y):\n",
      "\u001b[0;31mTypeError\u001b[0m: unsupported operand type(s) for /: 'str' and 'str'"
     ]
    }
   ],
   "source": [
    "# Calculate year-over-year growth for Total Revenue\n",
    "df['Revenue Growth (%)'] = df.groupby(['Company'])['Total Revenue(millions)'].pct_change() * 100\n",
    "\n",
    "# Calculate year-over-year growth for Net Income\n",
    "df['Net Income Growth (%)'] = df.groupby(['Company'])['Net income(millions)'].pct_change() * 100\n"
   ]
  },
  {
   "cell_type": "code",
   "execution_count": 5,
   "id": "a64138b5-8bfc-412d-9f5b-4e1114cd5cf9",
   "metadata": {
    "scrolled": true
   },
   "outputs": [
    {
     "name": "stdout",
     "output_type": "stream",
     "text": [
      "Company                                         object\n",
      "Fiscal Year                                      int64\n",
      "Total Revenue(millions)                         object\n",
      "Net income(millions)                            object\n",
      "Total Assets(millions)                          object\n",
      "Total liabilities(millions)                     object\n",
      "CashFlow from Operating Activities(millions)    object\n",
      "dtype: object\n"
     ]
    },
    {
     "name": "stderr",
     "output_type": "stream",
     "text": [
      "/var/folders/l0/g1n8xlpx535f9qkchxv0hdmc0000gn/T/ipykernel_2405/284582947.py:9: FutureWarning: The default fill_method='ffill' in SeriesGroupBy.pct_change is deprecated and will be removed in a future version. Either fill in any non-leading NA values prior to calling pct_change or specify 'fill_method=None' to not fill NA values.\n",
      "  df['Revenue Growth (%)'] = df.groupby(['Company'])['Total Revenue(millions)'].pct_change() * 100\n",
      "/var/folders/l0/g1n8xlpx535f9qkchxv0hdmc0000gn/T/ipykernel_2405/284582947.py:10: FutureWarning: The default fill_method='ffill' in SeriesGroupBy.pct_change is deprecated and will be removed in a future version. Either fill in any non-leading NA values prior to calling pct_change or specify 'fill_method=None' to not fill NA values.\n",
      "  df['Net Income Growth (%)'] = df.groupby(['Company'])['Net income(millions)'].pct_change() * 100\n"
     ]
    }
   ],
   "source": [
    "# Check data types of columns\n",
    "print(df.dtypes)\n",
    "\n",
    "# Convert relevant columns to numeric types\n",
    "df['Total Revenue(millions)'] = pd.to_numeric(df['Total Revenue(millions)'], errors='coerce')\n",
    "df['Net income(millions)'] = pd.to_numeric(df['Net income(millions)'], errors='coerce')\n",
    "\n",
    "# Calculate year-over-year growth for Total Revenue and Net Income\n",
    "df['Revenue Growth (%)'] = df.groupby(['Company'])['Total Revenue(millions)'].pct_change() * 100\n",
    "df['Net Income Growth (%)'] = df.groupby(['Company'])['Net income(millions)'].pct_change() * 100\n"
   ]
  },
  {
   "cell_type": "code",
   "execution_count": 6,
   "id": "5f62bcbe-7d4d-465b-926e-ddfc7c2f7225",
   "metadata": {},
   "outputs": [
    {
     "name": "stderr",
     "output_type": "stream",
     "text": [
      "/var/folders/l0/g1n8xlpx535f9qkchxv0hdmc0000gn/T/ipykernel_2405/1127179336.py:9: FutureWarning: The default fill_method='ffill' in SeriesGroupBy.pct_change is deprecated and will be removed in a future version. Either fill in any non-leading NA values prior to calling pct_change or specify 'fill_method=None' to not fill NA values.\n",
      "  df['Revenue Growth (%)'] = df.groupby(['Company'])['Total Revenue(millions)'].pct_change() * 100\n",
      "/var/folders/l0/g1n8xlpx535f9qkchxv0hdmc0000gn/T/ipykernel_2405/1127179336.py:10: FutureWarning: The default fill_method='ffill' in SeriesGroupBy.pct_change is deprecated and will be removed in a future version. Either fill in any non-leading NA values prior to calling pct_change or specify 'fill_method=None' to not fill NA values.\n",
      "  df['Net Income Growth (%)'] = df.groupby(['Company'])['Net income(millions)'].pct_change() * 100\n"
     ]
    }
   ],
   "source": [
    "# Convert relevant columns to numeric types\n",
    "df['Total Revenue(millions)'] = pd.to_numeric(df['Total Revenue(millions)'], errors='coerce')\n",
    "df['Net income(millions)'] = pd.to_numeric(df['Net income(millions)'], errors='coerce')\n",
    "df['Total Assets(millions)'] = pd.to_numeric(df['Total Assets(millions)'], errors='coerce')\n",
    "df['Total liabilities(millions)'] = pd.to_numeric(df['Total liabilities(millions)'], errors='coerce')\n",
    "df['CashFlow from Operating Activities(millions)'] = pd.to_numeric(df['CashFlow from Operating Activities(millions)'], errors='coerce')\n",
    "\n",
    "# Calculate year-over-year growth for Total Revenue and Net Income\n",
    "df['Revenue Growth (%)'] = df.groupby(['Company'])['Total Revenue(millions)'].pct_change() * 100\n",
    "df['Net Income Growth (%)'] = df.groupby(['Company'])['Net income(millions)'].pct_change() * 100\n"
   ]
  },
  {
   "cell_type": "code",
   "execution_count": 6,
   "id": "529f3a89-63ed-41f8-a2d3-4b060e043509",
   "metadata": {},
   "outputs": [
    {
     "name": "stderr",
     "output_type": "stream",
     "text": [
      "/var/folders/l0/g1n8xlpx535f9qkchxv0hdmc0000gn/T/ipykernel_2405/1127179336.py:9: FutureWarning: The default fill_method='ffill' in SeriesGroupBy.pct_change is deprecated and will be removed in a future version. Either fill in any non-leading NA values prior to calling pct_change or specify 'fill_method=None' to not fill NA values.\n",
      "  df['Revenue Growth (%)'] = df.groupby(['Company'])['Total Revenue(millions)'].pct_change() * 100\n",
      "/var/folders/l0/g1n8xlpx535f9qkchxv0hdmc0000gn/T/ipykernel_2405/1127179336.py:10: FutureWarning: The default fill_method='ffill' in SeriesGroupBy.pct_change is deprecated and will be removed in a future version. Either fill in any non-leading NA values prior to calling pct_change or specify 'fill_method=None' to not fill NA values.\n",
      "  df['Net Income Growth (%)'] = df.groupby(['Company'])['Net income(millions)'].pct_change() * 100\n"
     ]
    }
   ],
   "source": [
    "# Convert relevant columns to numeric types\n",
    "df['Total Revenue(millions)'] = pd.to_numeric(df['Total Revenue(millions)'], errors='coerce')\n",
    "df['Net income(millions)'] = pd.to_numeric(df['Net income(millions)'], errors='coerce')\n",
    "df['Total Assets(millions)'] = pd.to_numeric(df['Total Assets(millions)'], errors='coerce')\n",
    "df['Total liabilities(millions)'] = pd.to_numeric(df['Total liabilities(millions)'], errors='coerce')\n",
    "df['CashFlow from Operating Activities(millions)'] = pd.to_numeric(df['CashFlow from Operating Activities(millions)'], errors='coerce')\n",
    "\n",
    "# Calculate year-over-year growth for Total Revenue and Net Income\n",
    "df['Revenue Growth (%)'] = df.groupby(['Company'])['Total Revenue(millions)'].pct_change() * 100\n",
    "df['Net Income Growth (%)'] = df.groupby(['Company'])['Net income(millions)'].pct_change() * 100\n"
   ]
  },
  {
   "cell_type": "code",
   "execution_count": 6,
   "id": "75199ee0-9387-4ddd-8d2d-161527d58266",
   "metadata": {},
   "outputs": [
    {
     "name": "stderr",
     "output_type": "stream",
     "text": [
      "/var/folders/l0/g1n8xlpx535f9qkchxv0hdmc0000gn/T/ipykernel_2405/1127179336.py:9: FutureWarning: The default fill_method='ffill' in SeriesGroupBy.pct_change is deprecated and will be removed in a future version. Either fill in any non-leading NA values prior to calling pct_change or specify 'fill_method=None' to not fill NA values.\n",
      "  df['Revenue Growth (%)'] = df.groupby(['Company'])['Total Revenue(millions)'].pct_change() * 100\n",
      "/var/folders/l0/g1n8xlpx535f9qkchxv0hdmc0000gn/T/ipykernel_2405/1127179336.py:10: FutureWarning: The default fill_method='ffill' in SeriesGroupBy.pct_change is deprecated and will be removed in a future version. Either fill in any non-leading NA values prior to calling pct_change or specify 'fill_method=None' to not fill NA values.\n",
      "  df['Net Income Growth (%)'] = df.groupby(['Company'])['Net income(millions)'].pct_change() * 100\n"
     ]
    }
   ],
   "source": [
    "# Convert relevant columns to numeric types\n",
    "df['Total Revenue(millions)'] = pd.to_numeric(df['Total Revenue(millions)'], errors='coerce')\n",
    "df['Net income(millions)'] = pd.to_numeric(df['Net income(millions)'], errors='coerce')\n",
    "df['Total Assets(millions)'] = pd.to_numeric(df['Total Assets(millions)'], errors='coerce')\n",
    "df['Total liabilities(millions)'] = pd.to_numeric(df['Total liabilities(millions)'], errors='coerce')\n",
    "df['CashFlow from Operating Activities(millions)'] = pd.to_numeric(df['CashFlow from Operating Activities(millions)'], errors='coerce')\n",
    "\n",
    "# Calculate year-over-year growth for Total Revenue and Net Income\n",
    "df['Revenue Growth (%)'] = df.groupby(['Company'])['Total Revenue(millions)'].pct_change() * 100\n",
    "df['Net Income Growth (%)'] = df.groupby(['Company'])['Net income(millions)'].pct_change() * 100\n"
   ]
  },
  {
   "cell_type": "code",
   "execution_count": 7,
   "id": "d66228e8-6fe7-4d7f-9921-ff087d39f96b",
   "metadata": {},
   "outputs": [],
   "source": [
    "# Calculate year-over-year growth for Total Revenue and Net Income\n",
    "df['Revenue Growth (%)'] = df.groupby(['Company'])['Total Revenue(millions)'].pct_change(fill_method=None) * 100\n",
    "df['Net Income Growth (%)'] = df.groupby(['Company'])['Net income(millions)'].pct_change(fill_method=None) * 100\n"
   ]
  },
  {
   "cell_type": "code",
   "execution_count": 8,
   "id": "05dd611a-b85a-4ec5-8439-618eddb9972d",
   "metadata": {},
   "outputs": [],
   "source": [
    "# Calculate year-over-year growth for Total Revenue and Net Income\n",
    "df['Revenue Growth (%)'] = df.groupby(['Company'])['Total Revenue(millions)'].pct_change(fill_method=None) * 100\n",
    "df['Net Income Growth (%)'] = df.groupby(['Company'])['Net income(millions)'].pct_change(fill_method=None) * 100\n"
   ]
  },
  {
   "cell_type": "code",
   "execution_count": 9,
   "id": "9045c73d-31f4-4be4-83f4-9b40c68101da",
   "metadata": {},
   "outputs": [
    {
     "name": "stderr",
     "output_type": "stream",
     "text": [
      "/var/folders/l0/g1n8xlpx535f9qkchxv0hdmc0000gn/T/ipykernel_2405/1127179336.py:9: FutureWarning: The default fill_method='ffill' in SeriesGroupBy.pct_change is deprecated and will be removed in a future version. Either fill in any non-leading NA values prior to calling pct_change or specify 'fill_method=None' to not fill NA values.\n",
      "  df['Revenue Growth (%)'] = df.groupby(['Company'])['Total Revenue(millions)'].pct_change() * 100\n",
      "/var/folders/l0/g1n8xlpx535f9qkchxv0hdmc0000gn/T/ipykernel_2405/1127179336.py:10: FutureWarning: The default fill_method='ffill' in SeriesGroupBy.pct_change is deprecated and will be removed in a future version. Either fill in any non-leading NA values prior to calling pct_change or specify 'fill_method=None' to not fill NA values.\n",
      "  df['Net Income Growth (%)'] = df.groupby(['Company'])['Net income(millions)'].pct_change() * 100\n"
     ]
    }
   ],
   "source": [
    "# Convert relevant columns to numeric types\n",
    "df['Total Revenue(millions)'] = pd.to_numeric(df['Total Revenue(millions)'], errors='coerce')\n",
    "df['Net income(millions)'] = pd.to_numeric(df['Net income(millions)'], errors='coerce')\n",
    "df['Total Assets(millions)'] = pd.to_numeric(df['Total Assets(millions)'], errors='coerce')\n",
    "df['Total liabilities(millions)'] = pd.to_numeric(df['Total liabilities(millions)'], errors='coerce')\n",
    "df['CashFlow from Operating Activities(millions)'] = pd.to_numeric(df['CashFlow from Operating Activities(millions)'], errors='coerce')\n",
    "\n",
    "# Calculate year-over-year growth for Total Revenue and Net Income\n",
    "df['Revenue Growth (%)'] = df.groupby(['Company'])['Total Revenue(millions)'].pct_change() * 100\n",
    "df['Net Income Growth (%)'] = df.groupby(['Company'])['Net income(millions)'].pct_change() * 100\n"
   ]
  },
  {
   "cell_type": "code",
   "execution_count": 9,
   "id": "3530bf4f-5d3e-44e7-96b5-9016765ac1f8",
   "metadata": {},
   "outputs": [
    {
     "name": "stderr",
     "output_type": "stream",
     "text": [
      "/var/folders/l0/g1n8xlpx535f9qkchxv0hdmc0000gn/T/ipykernel_2405/1127179336.py:9: FutureWarning: The default fill_method='ffill' in SeriesGroupBy.pct_change is deprecated and will be removed in a future version. Either fill in any non-leading NA values prior to calling pct_change or specify 'fill_method=None' to not fill NA values.\n",
      "  df['Revenue Growth (%)'] = df.groupby(['Company'])['Total Revenue(millions)'].pct_change() * 100\n",
      "/var/folders/l0/g1n8xlpx535f9qkchxv0hdmc0000gn/T/ipykernel_2405/1127179336.py:10: FutureWarning: The default fill_method='ffill' in SeriesGroupBy.pct_change is deprecated and will be removed in a future version. Either fill in any non-leading NA values prior to calling pct_change or specify 'fill_method=None' to not fill NA values.\n",
      "  df['Net Income Growth (%)'] = df.groupby(['Company'])['Net income(millions)'].pct_change() * 100\n"
     ]
    }
   ],
   "source": [
    "# Convert relevant columns to numeric types\n",
    "df['Total Revenue(millions)'] = pd.to_numeric(df['Total Revenue(millions)'], errors='coerce')\n",
    "df['Net income(millions)'] = pd.to_numeric(df['Net income(millions)'], errors='coerce')\n",
    "df['Total Assets(millions)'] = pd.to_numeric(df['Total Assets(millions)'], errors='coerce')\n",
    "df['Total liabilities(millions)'] = pd.to_numeric(df['Total liabilities(millions)'], errors='coerce')\n",
    "df['CashFlow from Operating Activities(millions)'] = pd.to_numeric(df['CashFlow from Operating Activities(millions)'], errors='coerce')\n",
    "\n",
    "# Calculate year-over-year growth for Total Revenue and Net Income\n",
    "df['Revenue Growth (%)'] = df.groupby(['Company'])['Total Revenue(millions)'].pct_change() * 100\n",
    "df['Net Income Growth (%)'] = df.groupby(['Company'])['Net income(millions)'].pct_change() * 100\n"
   ]
  },
  {
   "cell_type": "code",
   "execution_count": 10,
   "id": "9e82ed98-2550-46c9-ab80-869fb8657680",
   "metadata": {},
   "outputs": [],
   "source": [
    "# Calculate year-over-year growth for Total Revenue and Net Income\n",
    "df['Revenue Growth (%)'] = df.groupby(['Company'])['Total Revenue(millions)'].pct_change(fill_method=None) * 100\n",
    "df['Net Income Growth (%)'] = df.groupby(['Company'])['Net income(millions)'].pct_change(fill_method=None) * 100\n"
   ]
  },
  {
   "cell_type": "code",
   "execution_count": 11,
   "id": "cd580034-8a9c-45a4-b026-dfa5107a27c3",
   "metadata": {},
   "outputs": [
    {
     "ename": "ModuleNotFoundError",
     "evalue": "No module named 'matplotlib'",
     "output_type": "error",
     "traceback": [
      "\u001b[0;31m---------------------------------------------------------------------------\u001b[0m",
      "\u001b[0;31mModuleNotFoundError\u001b[0m                       Traceback (most recent call last)",
      "Cell \u001b[0;32mIn[11], line 1\u001b[0m\n\u001b[0;32m----> 1\u001b[0m \u001b[38;5;28;01mimport\u001b[39;00m \u001b[38;5;21;01mmatplotlib\u001b[39;00m\u001b[38;5;21;01m.\u001b[39;00m\u001b[38;5;21;01mpyplot\u001b[39;00m \u001b[38;5;28;01mas\u001b[39;00m \u001b[38;5;21;01mplt\u001b[39;00m\n\u001b[1;32m      3\u001b[0m \u001b[38;5;66;03m# Summary statistics\u001b[39;00m\n\u001b[1;32m      4\u001b[0m summary_stats \u001b[38;5;241m=\u001b[39m df\u001b[38;5;241m.\u001b[39mgroupby(\u001b[38;5;124m'\u001b[39m\u001b[38;5;124mCompany\u001b[39m\u001b[38;5;124m'\u001b[39m)\u001b[38;5;241m.\u001b[39magg({\n\u001b[1;32m      5\u001b[0m     \u001b[38;5;124m'\u001b[39m\u001b[38;5;124mRevenue Growth (\u001b[39m\u001b[38;5;124m%\u001b[39m\u001b[38;5;124m)\u001b[39m\u001b[38;5;124m'\u001b[39m: [\u001b[38;5;124m'\u001b[39m\u001b[38;5;124mmean\u001b[39m\u001b[38;5;124m'\u001b[39m, \u001b[38;5;124m'\u001b[39m\u001b[38;5;124mmedian\u001b[39m\u001b[38;5;124m'\u001b[39m],\n\u001b[1;32m      6\u001b[0m     \u001b[38;5;124m'\u001b[39m\u001b[38;5;124mNet Income Growth (\u001b[39m\u001b[38;5;124m%\u001b[39m\u001b[38;5;124m)\u001b[39m\u001b[38;5;124m'\u001b[39m: [\u001b[38;5;124m'\u001b[39m\u001b[38;5;124mmean\u001b[39m\u001b[38;5;124m'\u001b[39m, \u001b[38;5;124m'\u001b[39m\u001b[38;5;124mmedian\u001b[39m\u001b[38;5;124m'\u001b[39m]\n\u001b[1;32m      7\u001b[0m })\n",
      "\u001b[0;31mModuleNotFoundError\u001b[0m: No module named 'matplotlib'"
     ]
    }
   ],
   "source": [
    "import matplotlib.pyplot as plt\n",
    "\n",
    "# Summary statistics\n",
    "summary_stats = df.groupby('Company').agg({\n",
    "    'Revenue Growth (%)': ['mean', 'median'],\n",
    "    'Net Income Growth (%)': ['mean', 'median']\n",
    "})\n",
    "\n",
    "# Plotting the trends\n",
    "plt.figure(figsize=(10, 6))\n",
    "\n",
    "plt.subplot(2, 1, 1)\n",
    "for company in df['Company'].unique():\n",
    "    subset = df[df['Company'] == company]\n",
    "    plt.plot(subset['Fiscal Year'], subset['Revenue Growth (%)'], label=company)\n",
    "plt.title('Revenue Growth Trends')\n",
    "plt.xlabel('Fiscal Year')\n",
    "plt.ylabel('Revenue Growth (%)')\n",
    "plt.legend()\n",
    "\n",
    "plt.subplot(2, 1, 2)\n",
    "for company in df['Company'].unique():\n",
    "    subset = df[df['Company'] == company]\n",
    "    plt.plot(subset['Fiscal Year'], subset['Net Income Growth (%)'], label=company)\n",
    "plt.title('Net Income Growth Trends')\n",
    "plt.xlabel('Fiscal Year')\n",
    "plt.ylabel('Net Income Growth (%)')\n",
    "plt.legend()\n",
    "\n",
    "plt.tight_layout()\n",
    "plt.show()\n"
   ]
  },
  {
   "cell_type": "code",
   "execution_count": 12,
   "id": "a7f7274a-4117-4be8-ac64-a09462aede08",
   "metadata": {},
   "outputs": [
    {
     "name": "stdout",
     "output_type": "stream",
     "text": [
      "Collecting matplotlib\n",
      "  Downloading matplotlib-3.8.4-cp39-cp39-macosx_10_12_x86_64.whl (7.6 MB)\n",
      "\u001b[K     |████████████████████████████████| 7.6 MB 356 kB/s eta 0:00:01\n",
      "\u001b[?25hCollecting kiwisolver>=1.3.1\n",
      "  Downloading kiwisolver-1.4.5-cp39-cp39-macosx_10_9_x86_64.whl (68 kB)\n",
      "\u001b[K     |████████████████████████████████| 68 kB 2.7 MB/s eta 0:00:011\n",
      "\u001b[?25hCollecting pillow>=8\n",
      "  Downloading pillow-10.3.0-cp39-cp39-macosx_10_10_x86_64.whl (3.5 MB)\n",
      "\u001b[K     |████████████████████████████████| 3.5 MB 5.8 MB/s eta 0:00:01\n",
      "\u001b[?25hCollecting contourpy>=1.0.1\n",
      "  Downloading contourpy-1.2.1-cp39-cp39-macosx_10_9_x86_64.whl (260 kB)\n",
      "\u001b[K     |████████████████████████████████| 260 kB 14.2 MB/s eta 0:00:01\n",
      "\u001b[?25hCollecting pyparsing>=2.3.1\n",
      "  Downloading pyparsing-3.1.2-py3-none-any.whl (103 kB)\n",
      "\u001b[K     |████████████████████████████████| 103 kB 12.4 MB/s eta 0:00:01\n",
      "\u001b[?25hCollecting cycler>=0.10\n",
      "  Downloading cycler-0.12.1-py3-none-any.whl (8.3 kB)\n",
      "Requirement already satisfied: python-dateutil>=2.7 in /Library/Frameworks/Python.framework/Versions/3.9/lib/python3.9/site-packages (from matplotlib) (2.9.0.post0)\n",
      "Collecting importlib-resources>=3.2.0\n",
      "  Downloading importlib_resources-6.4.0-py3-none-any.whl (38 kB)\n",
      "Requirement already satisfied: packaging>=20.0 in /Library/Frameworks/Python.framework/Versions/3.9/lib/python3.9/site-packages (from matplotlib) (24.0)\n",
      "Requirement already satisfied: numpy>=1.21 in /Library/Frameworks/Python.framework/Versions/3.9/lib/python3.9/site-packages (from matplotlib) (1.26.4)\n",
      "Collecting fonttools>=4.22.0\n",
      "  Downloading fonttools-4.51.0-cp39-cp39-macosx_10_9_x86_64.whl (2.3 MB)\n",
      "\u001b[K     |████████████████████████████████| 2.3 MB 12.8 MB/s eta 0:00:01     |█████████                       | 645 kB 12.8 MB/s eta 0:00:01\n",
      "\u001b[?25hRequirement already satisfied: zipp>=3.1.0 in /Library/Frameworks/Python.framework/Versions/3.9/lib/python3.9/site-packages (from importlib-resources>=3.2.0->matplotlib) (3.18.1)\n",
      "Requirement already satisfied: six>=1.5 in /Library/Frameworks/Python.framework/Versions/3.9/lib/python3.9/site-packages (from python-dateutil>=2.7->matplotlib) (1.15.0)\n",
      "Installing collected packages: pyparsing, pillow, kiwisolver, importlib-resources, fonttools, cycler, contourpy, matplotlib\n",
      "Successfully installed contourpy-1.2.1 cycler-0.12.1 fonttools-4.51.0 importlib-resources-6.4.0 kiwisolver-1.4.5 matplotlib-3.8.4 pillow-10.3.0 pyparsing-3.1.2\n",
      "\u001b[33mWARNING: You are using pip version 21.0.1; however, version 24.0 is available.\n",
      "You should consider upgrading via the '/Library/Frameworks/Python.framework/Versions/3.9/bin/python3 -m pip install --upgrade pip' command.\u001b[0m\n",
      "Note: you may need to restart the kernel to use updated packages.\n"
     ]
    }
   ],
   "source": [
    "pip install matplotlib\n"
   ]
  },
  {
   "cell_type": "code",
   "execution_count": 1,
   "id": "679100ed-3680-45a9-a86b-8d1f33d3b8a8",
   "metadata": {},
   "outputs": [
    {
     "ename": "NameError",
     "evalue": "name 'df' is not defined",
     "output_type": "error",
     "traceback": [
      "\u001b[0;31m---------------------------------------------------------------------------\u001b[0m",
      "\u001b[0;31mNameError\u001b[0m                                 Traceback (most recent call last)",
      "Cell \u001b[0;32mIn[1], line 4\u001b[0m\n\u001b[1;32m      1\u001b[0m \u001b[38;5;28;01mimport\u001b[39;00m \u001b[38;5;21;01mmatplotlib\u001b[39;00m\u001b[38;5;21;01m.\u001b[39;00m\u001b[38;5;21;01mpyplot\u001b[39;00m \u001b[38;5;28;01mas\u001b[39;00m \u001b[38;5;21;01mplt\u001b[39;00m\n\u001b[1;32m      3\u001b[0m \u001b[38;5;66;03m# Summary statistics\u001b[39;00m\n\u001b[0;32m----> 4\u001b[0m summary_stats \u001b[38;5;241m=\u001b[39m \u001b[43mdf\u001b[49m\u001b[38;5;241m.\u001b[39mgroupby(\u001b[38;5;124m'\u001b[39m\u001b[38;5;124mCompany\u001b[39m\u001b[38;5;124m'\u001b[39m)\u001b[38;5;241m.\u001b[39magg({\n\u001b[1;32m      5\u001b[0m     \u001b[38;5;124m'\u001b[39m\u001b[38;5;124mRevenue Growth (\u001b[39m\u001b[38;5;124m%\u001b[39m\u001b[38;5;124m)\u001b[39m\u001b[38;5;124m'\u001b[39m: [\u001b[38;5;124m'\u001b[39m\u001b[38;5;124mmean\u001b[39m\u001b[38;5;124m'\u001b[39m, \u001b[38;5;124m'\u001b[39m\u001b[38;5;124mmedian\u001b[39m\u001b[38;5;124m'\u001b[39m],\n\u001b[1;32m      6\u001b[0m     \u001b[38;5;124m'\u001b[39m\u001b[38;5;124mNet Income Growth (\u001b[39m\u001b[38;5;124m%\u001b[39m\u001b[38;5;124m)\u001b[39m\u001b[38;5;124m'\u001b[39m: [\u001b[38;5;124m'\u001b[39m\u001b[38;5;124mmean\u001b[39m\u001b[38;5;124m'\u001b[39m, \u001b[38;5;124m'\u001b[39m\u001b[38;5;124mmedian\u001b[39m\u001b[38;5;124m'\u001b[39m]\n\u001b[1;32m      7\u001b[0m })\n\u001b[1;32m      9\u001b[0m \u001b[38;5;66;03m# Plotting the trends\u001b[39;00m\n\u001b[1;32m     10\u001b[0m plt\u001b[38;5;241m.\u001b[39mfigure(figsize\u001b[38;5;241m=\u001b[39m(\u001b[38;5;241m10\u001b[39m, \u001b[38;5;241m6\u001b[39m))\n",
      "\u001b[0;31mNameError\u001b[0m: name 'df' is not defined"
     ]
    }
   ],
   "source": [
    "import matplotlib.pyplot as plt\n",
    "\n",
    "# Summary statistics\n",
    "summary_stats = df.groupby('Company').agg({\n",
    "    'Revenue Growth (%)': ['mean', 'median'],\n",
    "    'Net Income Growth (%)': ['mean', 'median']\n",
    "})\n",
    "\n",
    "# Plotting the trends\n",
    "plt.figure(figsize=(10, 6))\n",
    "\n",
    "plt.subplot(2, 1, 1)\n",
    "for company in df['Company'].unique():\n",
    "    subset = df[df['Company'] == company]\n",
    "    plt.plot(subset['Fiscal Year'], subset['Revenue Growth (%)'], label=company)\n",
    "plt.title('Revenue Growth Trends')\n",
    "plt.xlabel('Fiscal Year')\n",
    "plt.ylabel('Revenue Growth (%)')\n",
    "plt.legend()\n",
    "\n",
    "plt.subplot(2, 1, 2)\n",
    "for company in df['Company'].unique():\n",
    "    subset = df[df['Company'] == company]\n",
    "    plt.plot(subset['Fiscal Year'], subset['Net Income Growth (%)'], label=company)\n",
    "plt.title('Net Income Growth Trends')\n",
    "plt.xlabel('Fiscal Year')\n",
    "plt.ylabel('Net Income Growth (%)')\n",
    "plt.legend()\n",
    "\n",
    "plt.tight_layout()\n",
    "plt.show()\n"
   ]
  },
  {
   "cell_type": "code",
   "execution_count": 2,
   "id": "f3818ed7-a5d5-44ea-acea-64cdac1a26ee",
   "metadata": {},
   "outputs": [
    {
     "ename": "FileNotFoundError",
     "evalue": "[Errno 2] No such file or directory: 'path_to_your_csv_file.csv'",
     "output_type": "error",
     "traceback": [
      "\u001b[0;31m---------------------------------------------------------------------------\u001b[0m",
      "\u001b[0;31mFileNotFoundError\u001b[0m                         Traceback (most recent call last)",
      "Cell \u001b[0;32mIn[2], line 5\u001b[0m\n\u001b[1;32m      2\u001b[0m \u001b[38;5;28;01mimport\u001b[39;00m \u001b[38;5;21;01mmatplotlib\u001b[39;00m\u001b[38;5;21;01m.\u001b[39;00m\u001b[38;5;21;01mpyplot\u001b[39;00m \u001b[38;5;28;01mas\u001b[39;00m \u001b[38;5;21;01mplt\u001b[39;00m\n\u001b[1;32m      4\u001b[0m \u001b[38;5;66;03m# Read the CSV file into a DataFrame\u001b[39;00m\n\u001b[0;32m----> 5\u001b[0m df \u001b[38;5;241m=\u001b[39m \u001b[43mpd\u001b[49m\u001b[38;5;241;43m.\u001b[39;49m\u001b[43mread_csv\u001b[49m\u001b[43m(\u001b[49m\u001b[38;5;124;43m'\u001b[39;49m\u001b[38;5;124;43mpath_to_your_csv_file.csv\u001b[39;49m\u001b[38;5;124;43m'\u001b[39;49m\u001b[43m)\u001b[49m\n\u001b[1;32m      7\u001b[0m \u001b[38;5;66;03m# Display the first few rows of the DataFrame to verify data\u001b[39;00m\n\u001b[1;32m      8\u001b[0m \u001b[38;5;28mprint\u001b[39m(df\u001b[38;5;241m.\u001b[39mhead())\n",
      "File \u001b[0;32m/Library/Frameworks/Python.framework/Versions/3.9/lib/python3.9/site-packages/pandas/io/parsers/readers.py:1026\u001b[0m, in \u001b[0;36mread_csv\u001b[0;34m(filepath_or_buffer, sep, delimiter, header, names, index_col, usecols, dtype, engine, converters, true_values, false_values, skipinitialspace, skiprows, skipfooter, nrows, na_values, keep_default_na, na_filter, verbose, skip_blank_lines, parse_dates, infer_datetime_format, keep_date_col, date_parser, date_format, dayfirst, cache_dates, iterator, chunksize, compression, thousands, decimal, lineterminator, quotechar, quoting, doublequote, escapechar, comment, encoding, encoding_errors, dialect, on_bad_lines, delim_whitespace, low_memory, memory_map, float_precision, storage_options, dtype_backend)\u001b[0m\n\u001b[1;32m   1013\u001b[0m kwds_defaults \u001b[38;5;241m=\u001b[39m _refine_defaults_read(\n\u001b[1;32m   1014\u001b[0m     dialect,\n\u001b[1;32m   1015\u001b[0m     delimiter,\n\u001b[0;32m   (...)\u001b[0m\n\u001b[1;32m   1022\u001b[0m     dtype_backend\u001b[38;5;241m=\u001b[39mdtype_backend,\n\u001b[1;32m   1023\u001b[0m )\n\u001b[1;32m   1024\u001b[0m kwds\u001b[38;5;241m.\u001b[39mupdate(kwds_defaults)\n\u001b[0;32m-> 1026\u001b[0m \u001b[38;5;28;01mreturn\u001b[39;00m \u001b[43m_read\u001b[49m\u001b[43m(\u001b[49m\u001b[43mfilepath_or_buffer\u001b[49m\u001b[43m,\u001b[49m\u001b[43m \u001b[49m\u001b[43mkwds\u001b[49m\u001b[43m)\u001b[49m\n",
      "File \u001b[0;32m/Library/Frameworks/Python.framework/Versions/3.9/lib/python3.9/site-packages/pandas/io/parsers/readers.py:620\u001b[0m, in \u001b[0;36m_read\u001b[0;34m(filepath_or_buffer, kwds)\u001b[0m\n\u001b[1;32m    617\u001b[0m _validate_names(kwds\u001b[38;5;241m.\u001b[39mget(\u001b[38;5;124m\"\u001b[39m\u001b[38;5;124mnames\u001b[39m\u001b[38;5;124m\"\u001b[39m, \u001b[38;5;28;01mNone\u001b[39;00m))\n\u001b[1;32m    619\u001b[0m \u001b[38;5;66;03m# Create the parser.\u001b[39;00m\n\u001b[0;32m--> 620\u001b[0m parser \u001b[38;5;241m=\u001b[39m \u001b[43mTextFileReader\u001b[49m\u001b[43m(\u001b[49m\u001b[43mfilepath_or_buffer\u001b[49m\u001b[43m,\u001b[49m\u001b[43m \u001b[49m\u001b[38;5;241;43m*\u001b[39;49m\u001b[38;5;241;43m*\u001b[39;49m\u001b[43mkwds\u001b[49m\u001b[43m)\u001b[49m\n\u001b[1;32m    622\u001b[0m \u001b[38;5;28;01mif\u001b[39;00m chunksize \u001b[38;5;129;01mor\u001b[39;00m iterator:\n\u001b[1;32m    623\u001b[0m     \u001b[38;5;28;01mreturn\u001b[39;00m parser\n",
      "File \u001b[0;32m/Library/Frameworks/Python.framework/Versions/3.9/lib/python3.9/site-packages/pandas/io/parsers/readers.py:1620\u001b[0m, in \u001b[0;36mTextFileReader.__init__\u001b[0;34m(self, f, engine, **kwds)\u001b[0m\n\u001b[1;32m   1617\u001b[0m     \u001b[38;5;28mself\u001b[39m\u001b[38;5;241m.\u001b[39moptions[\u001b[38;5;124m\"\u001b[39m\u001b[38;5;124mhas_index_names\u001b[39m\u001b[38;5;124m\"\u001b[39m] \u001b[38;5;241m=\u001b[39m kwds[\u001b[38;5;124m\"\u001b[39m\u001b[38;5;124mhas_index_names\u001b[39m\u001b[38;5;124m\"\u001b[39m]\n\u001b[1;32m   1619\u001b[0m \u001b[38;5;28mself\u001b[39m\u001b[38;5;241m.\u001b[39mhandles: IOHandles \u001b[38;5;241m|\u001b[39m \u001b[38;5;28;01mNone\u001b[39;00m \u001b[38;5;241m=\u001b[39m \u001b[38;5;28;01mNone\u001b[39;00m\n\u001b[0;32m-> 1620\u001b[0m \u001b[38;5;28mself\u001b[39m\u001b[38;5;241m.\u001b[39m_engine \u001b[38;5;241m=\u001b[39m \u001b[38;5;28;43mself\u001b[39;49m\u001b[38;5;241;43m.\u001b[39;49m\u001b[43m_make_engine\u001b[49m\u001b[43m(\u001b[49m\u001b[43mf\u001b[49m\u001b[43m,\u001b[49m\u001b[43m \u001b[49m\u001b[38;5;28;43mself\u001b[39;49m\u001b[38;5;241;43m.\u001b[39;49m\u001b[43mengine\u001b[49m\u001b[43m)\u001b[49m\n",
      "File \u001b[0;32m/Library/Frameworks/Python.framework/Versions/3.9/lib/python3.9/site-packages/pandas/io/parsers/readers.py:1880\u001b[0m, in \u001b[0;36mTextFileReader._make_engine\u001b[0;34m(self, f, engine)\u001b[0m\n\u001b[1;32m   1878\u001b[0m     \u001b[38;5;28;01mif\u001b[39;00m \u001b[38;5;124m\"\u001b[39m\u001b[38;5;124mb\u001b[39m\u001b[38;5;124m\"\u001b[39m \u001b[38;5;129;01mnot\u001b[39;00m \u001b[38;5;129;01min\u001b[39;00m mode:\n\u001b[1;32m   1879\u001b[0m         mode \u001b[38;5;241m+\u001b[39m\u001b[38;5;241m=\u001b[39m \u001b[38;5;124m\"\u001b[39m\u001b[38;5;124mb\u001b[39m\u001b[38;5;124m\"\u001b[39m\n\u001b[0;32m-> 1880\u001b[0m \u001b[38;5;28mself\u001b[39m\u001b[38;5;241m.\u001b[39mhandles \u001b[38;5;241m=\u001b[39m \u001b[43mget_handle\u001b[49m\u001b[43m(\u001b[49m\n\u001b[1;32m   1881\u001b[0m \u001b[43m    \u001b[49m\u001b[43mf\u001b[49m\u001b[43m,\u001b[49m\n\u001b[1;32m   1882\u001b[0m \u001b[43m    \u001b[49m\u001b[43mmode\u001b[49m\u001b[43m,\u001b[49m\n\u001b[1;32m   1883\u001b[0m \u001b[43m    \u001b[49m\u001b[43mencoding\u001b[49m\u001b[38;5;241;43m=\u001b[39;49m\u001b[38;5;28;43mself\u001b[39;49m\u001b[38;5;241;43m.\u001b[39;49m\u001b[43moptions\u001b[49m\u001b[38;5;241;43m.\u001b[39;49m\u001b[43mget\u001b[49m\u001b[43m(\u001b[49m\u001b[38;5;124;43m\"\u001b[39;49m\u001b[38;5;124;43mencoding\u001b[39;49m\u001b[38;5;124;43m\"\u001b[39;49m\u001b[43m,\u001b[49m\u001b[43m \u001b[49m\u001b[38;5;28;43;01mNone\u001b[39;49;00m\u001b[43m)\u001b[49m\u001b[43m,\u001b[49m\n\u001b[1;32m   1884\u001b[0m \u001b[43m    \u001b[49m\u001b[43mcompression\u001b[49m\u001b[38;5;241;43m=\u001b[39;49m\u001b[38;5;28;43mself\u001b[39;49m\u001b[38;5;241;43m.\u001b[39;49m\u001b[43moptions\u001b[49m\u001b[38;5;241;43m.\u001b[39;49m\u001b[43mget\u001b[49m\u001b[43m(\u001b[49m\u001b[38;5;124;43m\"\u001b[39;49m\u001b[38;5;124;43mcompression\u001b[39;49m\u001b[38;5;124;43m\"\u001b[39;49m\u001b[43m,\u001b[49m\u001b[43m \u001b[49m\u001b[38;5;28;43;01mNone\u001b[39;49;00m\u001b[43m)\u001b[49m\u001b[43m,\u001b[49m\n\u001b[1;32m   1885\u001b[0m \u001b[43m    \u001b[49m\u001b[43mmemory_map\u001b[49m\u001b[38;5;241;43m=\u001b[39;49m\u001b[38;5;28;43mself\u001b[39;49m\u001b[38;5;241;43m.\u001b[39;49m\u001b[43moptions\u001b[49m\u001b[38;5;241;43m.\u001b[39;49m\u001b[43mget\u001b[49m\u001b[43m(\u001b[49m\u001b[38;5;124;43m\"\u001b[39;49m\u001b[38;5;124;43mmemory_map\u001b[39;49m\u001b[38;5;124;43m\"\u001b[39;49m\u001b[43m,\u001b[49m\u001b[43m \u001b[49m\u001b[38;5;28;43;01mFalse\u001b[39;49;00m\u001b[43m)\u001b[49m\u001b[43m,\u001b[49m\n\u001b[1;32m   1886\u001b[0m \u001b[43m    \u001b[49m\u001b[43mis_text\u001b[49m\u001b[38;5;241;43m=\u001b[39;49m\u001b[43mis_text\u001b[49m\u001b[43m,\u001b[49m\n\u001b[1;32m   1887\u001b[0m \u001b[43m    \u001b[49m\u001b[43merrors\u001b[49m\u001b[38;5;241;43m=\u001b[39;49m\u001b[38;5;28;43mself\u001b[39;49m\u001b[38;5;241;43m.\u001b[39;49m\u001b[43moptions\u001b[49m\u001b[38;5;241;43m.\u001b[39;49m\u001b[43mget\u001b[49m\u001b[43m(\u001b[49m\u001b[38;5;124;43m\"\u001b[39;49m\u001b[38;5;124;43mencoding_errors\u001b[39;49m\u001b[38;5;124;43m\"\u001b[39;49m\u001b[43m,\u001b[49m\u001b[43m \u001b[49m\u001b[38;5;124;43m\"\u001b[39;49m\u001b[38;5;124;43mstrict\u001b[39;49m\u001b[38;5;124;43m\"\u001b[39;49m\u001b[43m)\u001b[49m\u001b[43m,\u001b[49m\n\u001b[1;32m   1888\u001b[0m \u001b[43m    \u001b[49m\u001b[43mstorage_options\u001b[49m\u001b[38;5;241;43m=\u001b[39;49m\u001b[38;5;28;43mself\u001b[39;49m\u001b[38;5;241;43m.\u001b[39;49m\u001b[43moptions\u001b[49m\u001b[38;5;241;43m.\u001b[39;49m\u001b[43mget\u001b[49m\u001b[43m(\u001b[49m\u001b[38;5;124;43m\"\u001b[39;49m\u001b[38;5;124;43mstorage_options\u001b[39;49m\u001b[38;5;124;43m\"\u001b[39;49m\u001b[43m,\u001b[49m\u001b[43m \u001b[49m\u001b[38;5;28;43;01mNone\u001b[39;49;00m\u001b[43m)\u001b[49m\u001b[43m,\u001b[49m\n\u001b[1;32m   1889\u001b[0m \u001b[43m\u001b[49m\u001b[43m)\u001b[49m\n\u001b[1;32m   1890\u001b[0m \u001b[38;5;28;01massert\u001b[39;00m \u001b[38;5;28mself\u001b[39m\u001b[38;5;241m.\u001b[39mhandles \u001b[38;5;129;01mis\u001b[39;00m \u001b[38;5;129;01mnot\u001b[39;00m \u001b[38;5;28;01mNone\u001b[39;00m\n\u001b[1;32m   1891\u001b[0m f \u001b[38;5;241m=\u001b[39m \u001b[38;5;28mself\u001b[39m\u001b[38;5;241m.\u001b[39mhandles\u001b[38;5;241m.\u001b[39mhandle\n",
      "File \u001b[0;32m/Library/Frameworks/Python.framework/Versions/3.9/lib/python3.9/site-packages/pandas/io/common.py:873\u001b[0m, in \u001b[0;36mget_handle\u001b[0;34m(path_or_buf, mode, encoding, compression, memory_map, is_text, errors, storage_options)\u001b[0m\n\u001b[1;32m    868\u001b[0m \u001b[38;5;28;01melif\u001b[39;00m \u001b[38;5;28misinstance\u001b[39m(handle, \u001b[38;5;28mstr\u001b[39m):\n\u001b[1;32m    869\u001b[0m     \u001b[38;5;66;03m# Check whether the filename is to be opened in binary mode.\u001b[39;00m\n\u001b[1;32m    870\u001b[0m     \u001b[38;5;66;03m# Binary mode does not support 'encoding' and 'newline'.\u001b[39;00m\n\u001b[1;32m    871\u001b[0m     \u001b[38;5;28;01mif\u001b[39;00m ioargs\u001b[38;5;241m.\u001b[39mencoding \u001b[38;5;129;01mand\u001b[39;00m \u001b[38;5;124m\"\u001b[39m\u001b[38;5;124mb\u001b[39m\u001b[38;5;124m\"\u001b[39m \u001b[38;5;129;01mnot\u001b[39;00m \u001b[38;5;129;01min\u001b[39;00m ioargs\u001b[38;5;241m.\u001b[39mmode:\n\u001b[1;32m    872\u001b[0m         \u001b[38;5;66;03m# Encoding\u001b[39;00m\n\u001b[0;32m--> 873\u001b[0m         handle \u001b[38;5;241m=\u001b[39m \u001b[38;5;28;43mopen\u001b[39;49m\u001b[43m(\u001b[49m\n\u001b[1;32m    874\u001b[0m \u001b[43m            \u001b[49m\u001b[43mhandle\u001b[49m\u001b[43m,\u001b[49m\n\u001b[1;32m    875\u001b[0m \u001b[43m            \u001b[49m\u001b[43mioargs\u001b[49m\u001b[38;5;241;43m.\u001b[39;49m\u001b[43mmode\u001b[49m\u001b[43m,\u001b[49m\n\u001b[1;32m    876\u001b[0m \u001b[43m            \u001b[49m\u001b[43mencoding\u001b[49m\u001b[38;5;241;43m=\u001b[39;49m\u001b[43mioargs\u001b[49m\u001b[38;5;241;43m.\u001b[39;49m\u001b[43mencoding\u001b[49m\u001b[43m,\u001b[49m\n\u001b[1;32m    877\u001b[0m \u001b[43m            \u001b[49m\u001b[43merrors\u001b[49m\u001b[38;5;241;43m=\u001b[39;49m\u001b[43merrors\u001b[49m\u001b[43m,\u001b[49m\n\u001b[1;32m    878\u001b[0m \u001b[43m            \u001b[49m\u001b[43mnewline\u001b[49m\u001b[38;5;241;43m=\u001b[39;49m\u001b[38;5;124;43m\"\u001b[39;49m\u001b[38;5;124;43m\"\u001b[39;49m\u001b[43m,\u001b[49m\n\u001b[1;32m    879\u001b[0m \u001b[43m        \u001b[49m\u001b[43m)\u001b[49m\n\u001b[1;32m    880\u001b[0m     \u001b[38;5;28;01melse\u001b[39;00m:\n\u001b[1;32m    881\u001b[0m         \u001b[38;5;66;03m# Binary mode\u001b[39;00m\n\u001b[1;32m    882\u001b[0m         handle \u001b[38;5;241m=\u001b[39m \u001b[38;5;28mopen\u001b[39m(handle, ioargs\u001b[38;5;241m.\u001b[39mmode)\n",
      "\u001b[0;31mFileNotFoundError\u001b[0m: [Errno 2] No such file or directory: 'path_to_your_csv_file.csv'"
     ]
    }
   ],
   "source": [
    "import pandas as pd\n",
    "import matplotlib.pyplot as plt\n",
    "\n",
    "# Read the CSV file into a DataFrame\n",
    "df = pd.read_csv('path_to_your_csv_file.csv')\n",
    "\n",
    "# Display the first few rows of the DataFrame to verify data\n",
    "print(df.head())\n"
   ]
  },
  {
   "cell_type": "code",
   "execution_count": 3,
   "id": "daee2086-d27d-4d82-a1e8-7c711cfb3b95",
   "metadata": {},
   "outputs": [
    {
     "name": "stdout",
     "output_type": "stream",
     "text": [
      "     Company  Fiscal Year Total Revenue(millions) Net income(millions)  \\\n",
      "0  Microsoft         2023                2,11,915               72,361   \n",
      "1  Microsoft         2022                1,98,270               72,738   \n",
      "2  Microsoft         2021                1,68,088               61,271   \n",
      "3      Tesla         2023                  96,773               14,974   \n",
      "4      Tesla         2022                  81,462               12,587   \n",
      "\n",
      "  Total Assets(millions) Total liabilities(millions)  \\\n",
      "0               4,11,976                    2,05,753   \n",
      "1               3,64,840                    1,98,298   \n",
      "2               3,33,779                    1,91,791   \n",
      "3               1,06,618                      43,009   \n",
      "4                 82,338                      36,440   \n",
      "\n",
      "  CashFlow from Operating Activities(millions)  \n",
      "0                                       87,582  \n",
      "1                                       89,035  \n",
      "2                                       76,740  \n",
      "3                                       13,256  \n",
      "4                                       14,724  \n"
     ]
    }
   ],
   "source": [
    "import pandas as pd\n",
    "\n",
    "# Define the file path\n",
    "file_path = '/Users/rudra/Downloads/10-k fillings BCG.csv'\n",
    "\n",
    "# Read the CSV file into a pandas DataFrame\n",
    "df = pd.read_csv(file_path)\n",
    "\n",
    "# Display the first few rows of the DataFrame to verify that the data has been loaded correctly\n",
    "print(df.head())"
   ]
  },
  {
   "cell_type": "code",
   "execution_count": 4,
   "id": "e5e4517c-696f-43ee-b7a2-e5f30863c1b9",
   "metadata": {},
   "outputs": [],
   "source": [
    "# Convert relevant columns to numeric types\n",
    "df['Total Revenue(millions)'] = pd.to_numeric(df['Total Revenue(millions)'], errors='coerce')\n",
    "df['Net income(millions)'] = pd.to_numeric(df['Net income(millions)'], errors='coerce')\n",
    "# Convert other relevant columns to numeric types similarly...\n",
    "\n",
    "# Handle missing or NaN values\n",
    "df.fillna(0, inplace=True)  # Fill missing values with zeros\n"
   ]
  },
  {
   "cell_type": "code",
   "execution_count": 5,
   "id": "77bab7b5-58b6-42b4-a482-adf43f05615a",
   "metadata": {},
   "outputs": [],
   "source": [
    "# Calculate year-over-year growth for Total Revenue and Net Income\n",
    "df['Revenue Growth (%)'] = df.groupby(['Company'])['Total Revenue(millions)'].pct_change() * 100\n",
    "df['Net Income Growth (%)'] = df.groupby(['Company'])['Net income(millions)'].pct_change() * 100\n"
   ]
  },
  {
   "cell_type": "code",
   "execution_count": 6,
   "id": "c8045dac-32fb-4bb5-b61d-4246eb839dd3",
   "metadata": {},
   "outputs": [],
   "source": [
    "# Summary statistics\n",
    "summary_stats = df.groupby('Company').agg({\n",
    "    'Revenue Growth (%)': ['mean', 'median'],\n",
    "    'Net Income Growth (%)': ['mean', 'median']\n",
    "})\n"
   ]
  },
  {
   "cell_type": "code",
   "execution_count": 7,
   "id": "247994d9-6c94-4cd8-931c-90aa4dcfa010",
   "metadata": {},
   "outputs": [
    {
     "data": {
      "image/png": "[encoded data removed]",
      "text/plain": [
       "<Figure size 1000x600 with 1 Axes>"
      ]
     },
     "metadata": {},
     "output_type": "display_data"
    }
   ],
   "source": [
    "# Plotting the trends\n",
    "plt.figure(figsize=(10, 6))\n",
    "for company, data in df.groupby('Company'):\n",
    "    plt.plot(data['Fiscal Year'], data['Revenue Growth (%)'], label=company)\n",
    "\n",
    "plt.title('Revenue Growth Trends')\n",
    "plt.xlabel('Fiscal Year')\n",
    "plt.ylabel('Revenue Growth (%)')\n",
    "plt.legend()\n",
    "plt.grid(True)\n",
    "plt.show()\n"
   ]
  },
  {
   "cell_type": "code",
   "execution_count": 8,
   "id": "96223e4d-0ecc-4134-a297-79c1bdfe532a",
   "metadata": {},
   "outputs": [
    {
     "name": "stdout",
     "output_type": "stream",
     "text": [
      "     Company  Fiscal Year Total Revenue(millions) Net income(millions)  \\\n",
      "0  Microsoft         2023                2,11,915               72,361   \n",
      "1  Microsoft         2022                1,98,270               72,738   \n",
      "2  Microsoft         2021                1,68,088               61,271   \n",
      "3      Tesla         2023                  96,773               14,974   \n",
      "4      Tesla         2022                  81,462               12,587   \n",
      "\n",
      "  Total Assets(millions) Total liabilities(millions)  \\\n",
      "0               4,11,976                    2,05,753   \n",
      "1               3,64,840                    1,98,298   \n",
      "2               3,33,779                    1,91,791   \n",
      "3               1,06,618                      43,009   \n",
      "4                 82,338                      36,440   \n",
      "\n",
      "  CashFlow from Operating Activities(millions)  \n",
      "0                                       87,582  \n",
      "1                                       89,035  \n",
      "2                                       76,740  \n",
      "3                                       13,256  \n",
      "4                                       14,724  \n",
      "     Company  Fiscal Year  Total Revenue(millions)  Net income(millions)  \\\n",
      "0  Microsoft         2023                      NaN                   NaN   \n",
      "1  Microsoft         2022                      NaN                   NaN   \n",
      "2  Microsoft         2021                      NaN                   NaN   \n",
      "3      Tesla         2023                      NaN                   NaN   \n",
      "4      Tesla         2022                      NaN                   NaN   \n",
      "\n",
      "   Total Assets(millions)  Total liabilities(millions)  \\\n",
      "0                     NaN                          NaN   \n",
      "1                     NaN                          NaN   \n",
      "2                     NaN                          NaN   \n",
      "3                     NaN                          NaN   \n",
      "4                     NaN                          NaN   \n",
      "\n",
      "   CashFlow from Operating Activities(millions)  Revenue Growth (%)  \\\n",
      "0                                           NaN                 NaN   \n",
      "1                                           NaN                 NaN   \n",
      "2                                           NaN                 NaN   \n",
      "3                                           NaN                 NaN   \n",
      "4                                           NaN                 NaN   \n",
      "\n",
      "   Net Income Growth (%)  \n",
      "0                    NaN  \n",
      "1                    NaN  \n",
      "2                    NaN  \n",
      "3                    NaN  \n",
      "4                    NaN  \n",
      "          Revenue Growth (%)        Net Income Growth (%)       \n",
      "                        mean median                  mean median\n",
      "Company                                                         \n",
      "Apple                    NaN    NaN                   NaN    NaN\n",
      "Microsoft                NaN    NaN                   NaN    NaN\n",
      "Tesla                    NaN    NaN                   NaN    NaN\n"
     ]
    },
    {
     "data": {
      "image/png": "[encoded data removed]",
      "text/plain": [
       "<Figure size 1000x600 with 1 Axes>"
      ]
     },
     "metadata": {},
     "output_type": "display_data"
    }
   ],
   "source": [
    "import pandas as pd\n",
    "\n",
    "# Define the file path\n",
    "file_path = '/Users/rudra/Downloads/10-k fillings BCG.csv'\n",
    "\n",
    "# Read the CSV file into a pandas DataFrame\n",
    "df = pd.read_csv(file_path)\n",
    "\n",
    "# Display the first few rows of the DataFrame to verify that the data has been loaded correctly\n",
    "print(df.head())\n",
    "\n",
    "# Convert relevant columns to numeric types\n",
    "df['Total Revenue(millions)'] = pd.to_numeric(df['Total Revenue(millions)'], errors='coerce')\n",
    "df['Net income(millions)'] = pd.to_numeric(df['Net income(millions)'], errors='coerce')\n",
    "df['Total Assets(millions)'] = pd.to_numeric(df['Total Assets(millions)'], errors='coerce')\n",
    "df['Total liabilities(millions)'] = pd.to_numeric(df['Total liabilities(millions)'], errors='coerce')\n",
    "df['CashFlow from Operating Activities(millions)'] = pd.to_numeric(df['CashFlow from Operating Activities(millions)'], errors='coerce')\n",
    "\n",
    "# Calculate year-over-year growth for Total Revenue and Net Income\n",
    "df['Revenue Growth (%)'] = df.groupby(['Company'])['Total Revenue(millions)'].pct_change(fill_method=None) * 100\n",
    "df['Net Income Growth (%)'] = df.groupby(['Company'])['Net income(millions)'].pct_change(fill_method=None) * 100\n",
    "\n",
    "# Display the DataFrame with the new columns for revenue growth and net income growth\n",
    "print(df.head())\n",
    "\n",
    "# Summary statistics\n",
    "summary_stats = df.groupby('Company').agg({\n",
    "    'Revenue Growth (%)': ['mean', 'median'],\n",
    "    'Net Income Growth (%)': ['mean', 'median']\n",
    "})\n",
    "\n",
    "# Display the summary statistics\n",
    "print(summary_stats)\n",
    "\n",
    "# Plotting the trends\n",
    "plt.figure(figsize=(10, 6))\n",
    "for company in df['Company'].unique():\n",
    "    company_data = df[df['Company'] == company]\n",
    "    plt.plot(company_data['Fiscal Year'], company_data['Revenue Growth (%)'], label=company)\n",
    "plt.xlabel('Fiscal Year')\n",
    "plt.ylabel('Revenue Growth (%)')\n",
    "plt.title('Year-over-Year Revenue Growth')\n",
    "plt.legend()\n",
    "plt.show()\n"
   ]
  },
  {
   "cell_type": "code",
   "execution_count": 9,
   "id": "ee11f666-b053-4cfc-b8a2-abd6382dec8a",
   "metadata": {},
   "outputs": [
    {
     "name": "stdout",
     "output_type": "stream",
     "text": [
      "<class 'pandas.core.frame.DataFrame'>\n",
      "RangeIndex: 9 entries, 0 to 8\n",
      "Data columns (total 7 columns):\n",
      " #   Column                                        Non-Null Count  Dtype  \n",
      "---  ------                                        --------------  -----  \n",
      " 0   Company                                       9 non-null      object \n",
      " 1   Fiscal Year                                   9 non-null      int64  \n",
      " 2   Total Revenue(millions)                       9 non-null      float64\n",
      " 3   Net income(millions)                          9 non-null      int64  \n",
      " 4   Total Assets(millions)                        9 non-null      int64  \n",
      " 5   Total liabilities(millions)                   9 non-null      int64  \n",
      " 6   CashFlow from Operating Activities(millions)  9 non-null      int64  \n",
      "dtypes: float64(1), int64(5), object(1)\n",
      "memory usage: 632.0+ bytes\n",
      "None\n",
      "     Company  Fiscal Year  Total Revenue(millions)  Net income(millions)  \\\n",
      "0  Microsoft         2023                 211915.0                 72361   \n",
      "1  Microsoft         2022                 198270.0                 72738   \n",
      "2  Microsoft         2021                 168088.0                 61271   \n",
      "3      Tesla         2023                  96773.0                 14974   \n",
      "4      Tesla         2022                  81462.0                 12587   \n",
      "\n",
      "   Total Assets(millions)  Total liabilities(millions)  \\\n",
      "0                  411976                       205753   \n",
      "1                  364840                       198298   \n",
      "2                  333779                       191791   \n",
      "3                  106618                        43009   \n",
      "4                   82338                        36440   \n",
      "\n",
      "   CashFlow from Operating Activities(millions)  \n",
      "0                                         87582  \n",
      "1                                         89035  \n",
      "2                                         76740  \n",
      "3                                         13256  \n",
      "4                                         14724  \n"
     ]
    }
   ],
   "source": [
    "import pandas as pd\n",
    "\n",
    "# Read the CSV file into a pandas DataFrame\n",
    "df = pd.read_csv('/Users/rudra/Downloads/10-k fillings BCG.csv')\n",
    "\n",
    "# Remove thousand separators from numeric columns\n",
    "numeric_cols = ['Total Revenue(millions)', 'Net income(millions)', 'Total Assets(millions)',\n",
    "                'Total liabilities(millions)', 'CashFlow from Operating Activities(millions)']\n",
    "df[numeric_cols] = df[numeric_cols].replace(',', '', regex=True)\n",
    "\n",
    "# Convert numeric columns to numeric types\n",
    "df[numeric_cols] = df[numeric_cols].apply(pd.to_numeric, errors='coerce')\n",
    "\n",
    "# Handle missing values (fill or drop rows)\n",
    "# For example, to fill missing values with 0:\n",
    "# df.fillna(0, inplace=True)\n",
    "\n",
    "# Verify the data\n",
    "print(df.info())  # Check data types and missing values\n",
    "print(df.head())  # Display the first few rows of the DataFrame\n"
   ]
  },
  {
   "cell_type": "code",
   "execution_count": 10,
   "id": "2dfeaaf6-6bad-485f-9eb2-b10e10612d71",
   "metadata": {},
   "outputs": [
    {
     "name": "stdout",
     "output_type": "stream",
     "text": [
      "     Company  Fiscal Year Total Revenue(millions) Net income(millions)  \\\n",
      "0  Microsoft         2023                2,11,915               72,361   \n",
      "1  Microsoft         2022                1,98,270               72,738   \n",
      "2  Microsoft         2021                1,68,088               61,271   \n",
      "3      Tesla         2023                  96,773               14,974   \n",
      "4      Tesla         2022                  81,462               12,587   \n",
      "\n",
      "  Total Assets(millions) Total liabilities(millions)  \\\n",
      "0               4,11,976                    2,05,753   \n",
      "1               3,64,840                    1,98,298   \n",
      "2               3,33,779                    1,91,791   \n",
      "3               1,06,618                      43,009   \n",
      "4                 82,338                      36,440   \n",
      "\n",
      "  CashFlow from Operating Activities(millions)  \n",
      "0                                       87,582  \n",
      "1                                       89,035  \n",
      "2                                       76,740  \n",
      "3                                       13,256  \n",
      "4                                       14,724  \n",
      "     Company  Fiscal Year  Total Revenue(millions)  Net income(millions)  \\\n",
      "0  Microsoft         2023                      NaN                   NaN   \n",
      "1  Microsoft         2022                      NaN                   NaN   \n",
      "2  Microsoft         2021                      NaN                   NaN   \n",
      "3      Tesla         2023                      NaN                   NaN   \n",
      "4      Tesla         2022                      NaN                   NaN   \n",
      "\n",
      "   Total Assets(millions)  Total liabilities(millions)  \\\n",
      "0                     NaN                          NaN   \n",
      "1                     NaN                          NaN   \n",
      "2                     NaN                          NaN   \n",
      "3                     NaN                          NaN   \n",
      "4                     NaN                          NaN   \n",
      "\n",
      "   CashFlow from Operating Activities(millions)  Revenue Growth (%)  \\\n",
      "0                                           NaN                 NaN   \n",
      "1                                           NaN                 NaN   \n",
      "2                                           NaN                 NaN   \n",
      "3                                           NaN                 NaN   \n",
      "4                                           NaN                 NaN   \n",
      "\n",
      "   Net Income Growth (%)  \n",
      "0                    NaN  \n",
      "1                    NaN  \n",
      "2                    NaN  \n",
      "3                    NaN  \n",
      "4                    NaN  \n",
      "          Revenue Growth (%)        Net Income Growth (%)       \n",
      "                        mean median                  mean median\n",
      "Company                                                         \n",
      "Apple                    NaN    NaN                   NaN    NaN\n",
      "Microsoft                NaN    NaN                   NaN    NaN\n",
      "Tesla                    NaN    NaN                   NaN    NaN\n"
     ]
    },
    {
     "data": {
      "image/png": "[encoded data removed]",
      "text/plain": [
       "<Figure size 1000x600 with 1 Axes>"
      ]
     },
     "metadata": {},
     "output_type": "display_data"
    }
   ],
   "source": [
    "import pandas as pd\n",
    "\n",
    "# Define the file path\n",
    "file_path = '/Users/rudra/Downloads/10-k fillings BCG.csv'\n",
    "\n",
    "# Read the CSV file into a pandas DataFrame\n",
    "df = pd.read_csv(file_path)\n",
    "\n",
    "# Display the first few rows of the DataFrame to verify that the data has been loaded correctly\n",
    "print(df.head())\n",
    "\n",
    "# Convert relevant columns to numeric types\n",
    "df['Total Revenue(millions)'] = pd.to_numeric(df['Total Revenue(millions)'], errors='coerce')\n",
    "df['Net income(millions)'] = pd.to_numeric(df['Net income(millions)'], errors='coerce')\n",
    "df['Total Assets(millions)'] = pd.to_numeric(df['Total Assets(millions)'], errors='coerce')\n",
    "df['Total liabilities(millions)'] = pd.to_numeric(df['Total liabilities(millions)'], errors='coerce')\n",
    "df['CashFlow from Operating Activities(millions)'] = pd.to_numeric(df['CashFlow from Operating Activities(millions)'], errors='coerce')\n",
    "\n",
    "# Calculate year-over-year growth for Total Revenue and Net Income\n",
    "df['Revenue Growth (%)'] = df.groupby(['Company'])['Total Revenue(millions)'].pct_change(fill_method=None) * 100\n",
    "df['Net Income Growth (%)'] = df.groupby(['Company'])['Net income(millions)'].pct_change(fill_method=None) * 100\n",
    "\n",
    "# Display the DataFrame with the new columns for revenue growth and net income growth\n",
    "print(df.head())\n",
    "\n",
    "# Summary statistics\n",
    "summary_stats = df.groupby('Company').agg({\n",
    "    'Revenue Growth (%)': ['mean', 'median'],\n",
    "    'Net Income Growth (%)': ['mean', 'median']\n",
    "})\n",
    "\n",
    "# Display the summary statistics\n",
    "print(summary_stats)\n",
    "\n",
    "# Plotting the trends\n",
    "plt.figure(figsize=(10, 6))\n",
    "for company in df['Company'].unique():\n",
    "    company_data = df[df['Company'] == company]\n",
    "    plt.plot(company_data['Fiscal Year'], company_data['Revenue Growth (%)'], label=company)\n",
    "plt.xlabel('Fiscal Year')\n",
    "plt.ylabel('Revenue Growth (%)')\n",
    "plt.title('Year-over-Year Revenue Growth')\n",
    "plt.legend()\n",
    "plt.show()\n"
   ]
  },
  {
   "cell_type": "code",
   "execution_count": 11,
   "id": "4c7f6c67-723b-4655-9674-95244addadbb",
   "metadata": {},
   "outputs": [
    {
     "name": "stdout",
     "output_type": "stream",
     "text": [
      "<class 'pandas.core.frame.DataFrame'>\n",
      "RangeIndex: 9 entries, 0 to 8\n",
      "Data columns (total 7 columns):\n",
      " #   Column                                        Non-Null Count  Dtype  \n",
      "---  ------                                        --------------  -----  \n",
      " 0   Company                                       9 non-null      object \n",
      " 1   Fiscal Year                                   9 non-null      int64  \n",
      " 2   Total Revenue(millions)                       9 non-null      float64\n",
      " 3   Net income(millions)                          9 non-null      int64  \n",
      " 4   Total Assets(millions)                        9 non-null      int64  \n",
      " 5   Total liabilities(millions)                   9 non-null      int64  \n",
      " 6   CashFlow from Operating Activities(millions)  9 non-null      int64  \n",
      "dtypes: float64(1), int64(5), object(1)\n",
      "memory usage: 632.0+ bytes\n",
      "None\n",
      "     Company  Fiscal Year  Total Revenue(millions)  Net income(millions)  \\\n",
      "0  Microsoft         2023                 211915.0                 72361   \n",
      "1  Microsoft         2022                 198270.0                 72738   \n",
      "2  Microsoft         2021                 168088.0                 61271   \n",
      "3      Tesla         2023                  96773.0                 14974   \n",
      "4      Tesla         2022                  81462.0                 12587   \n",
      "\n",
      "   Total Assets(millions)  Total liabilities(millions)  \\\n",
      "0                  411976                       205753   \n",
      "1                  364840                       198298   \n",
      "2                  333779                       191791   \n",
      "3                  106618                        43009   \n",
      "4                   82338                        36440   \n",
      "\n",
      "   CashFlow from Operating Activities(millions)  \n",
      "0                                         87582  \n",
      "1                                         89035  \n",
      "2                                         76740  \n",
      "3                                         13256  \n",
      "4                                         14724  \n"
     ]
    }
   ],
   "source": [
    "import pandas as pd\n",
    "\n",
    "# Read the CSV file into a pandas DataFrame\n",
    "df = pd.read_csv('/Users/rudra/Downloads/10-k fillings BCG.csv')\n",
    "\n",
    "# Remove thousand separators from numeric columns\n",
    "numeric_cols = ['Total Revenue(millions)', 'Net income(millions)', 'Total Assets(millions)',\n",
    "                'Total liabilities(millions)', 'CashFlow from Operating Activities(millions)']\n",
    "df[numeric_cols] = df[numeric_cols].replace(',', '', regex=True)\n",
    "\n",
    "# Convert numeric columns to numeric types\n",
    "df[numeric_cols] = df[numeric_cols].apply(pd.to_numeric, errors='coerce')\n",
    "\n",
    "# Handle missing values (fill or drop rows)\n",
    "# For example, to fill missing values with 0:\n",
    "# df.fillna(0, inplace=True)\n",
    "\n",
    "# Verify the data\n",
    "print(df.info())  # Check data types and missing values\n",
    "print(df.head())  # Display the first few rows of the DataFrame\n"
   ]
  },
  {
   "cell_type": "code",
   "execution_count": 12,
   "id": "113d40b9-f04f-448a-a67f-69e0abddc28f",
   "metadata": {},
   "outputs": [
    {
     "data": {
      "image/png": "[encoded data removed]",
      "text/plain": [
       "<Figure size 1000x600 with 1 Axes>"
      ]
     },
     "metadata": {},
     "output_type": "display_data"
    },
    {
     "name": "stdout",
     "output_type": "stream",
     "text": [
      "          Revenue Growth (%)            Net Income Growth (%)           \n",
      "                        mean     median                  mean     median\n",
      "Company                                                                 \n",
      "Apple              15.084294  15.084294             -1.119059  -1.119059\n",
      "Microsoft         -10.830789 -10.830789             -7.621900  -7.621900\n",
      "Tesla             -25.488915 -25.488915            -35.550525 -35.550525\n"
     ]
    }
   ],
   "source": [
    "# Calculate year-over-year growth for Total Revenue and Net Income\n",
    "df['Revenue Growth (%)'] = df.groupby(['Company'])['Total Revenue(millions)'].pct_change() * 100\n",
    "df['Net Income Growth (%)'] = df.groupby(['Company'])['Net income(millions)'].pct_change() * 100\n",
    "\n",
    "# Convert relevant columns to numeric types\n",
    "df['Total Revenue(millions)'] = pd.to_numeric(df['Total Revenue(millions)'], errors='coerce')\n",
    "df['Net income(millions)'] = pd.to_numeric(df['Net income(millions)'], errors='coerce')\n",
    "df['Total Assets(millions)'] = pd.to_numeric(df['Total Assets(millions)'], errors='coerce')\n",
    "df['Total liabilities(millions)'] = pd.to_numeric(df['Total liabilities(millions)'], errors='coerce')\n",
    "df['CashFlow from Operating Activities(millions)'] = pd.to_numeric(df['CashFlow from Operating Activities(millions)'], errors='coerce')\n",
    "\n",
    "# Calculate year-over-year growth for Total Revenue and Net Income\n",
    "df['Revenue Growth (%)'] = df.groupby(['Company'])['Total Revenue(millions)'].pct_change() * 100\n",
    "df['Net Income Growth (%)'] = df.groupby(['Company'])['Net income(millions)'].pct_change() * 100\n",
    "\n",
    "# Summary statistics\n",
    "summary_stats = df.groupby('Company').agg({\n",
    "    'Revenue Growth (%)': ['mean', 'median'],\n",
    "    'Net Income Growth (%)': ['mean', 'median']\n",
    "})\n",
    "\n",
    "# Plotting the trends\n",
    "plt.figure(figsize=(10, 6))\n",
    "for company in df['Company'].unique():\n",
    "    company_data = df[df['Company'] == company]\n",
    "    plt.plot(company_data['Fiscal Year'], company_data['Revenue Growth (%)'], label=company)\n",
    "\n",
    "plt.xlabel('Fiscal Year')\n",
    "plt.ylabel('Revenue Growth (%)')\n",
    "plt.title('Year-over-Year Revenue Growth')\n",
    "plt.legend()\n",
    "plt.grid(True)\n",
    "plt.show()\n",
    "\n",
    "# Display summary statistics\n",
    "print(summary_stats)\n"
   ]
  },
  {
   "cell_type": "code",
   "execution_count": 1,
   "id": "6f40564c",
   "metadata": {},
   "outputs": [
    {
     "name": "stdout",
     "output_type": "stream",
     "text": [
      "The total revenue is $211,915 million.\n",
      "The net income has decreased by 1% over the last year.\n",
      "The total assets amount to $411,976 million.\n",
      "The cash flow from operating activities is $87,582 million.\n",
      "Sorry, I can only provide information on predefined queries.\n"
     ]
    }
   ],
   "source": [
    "def simple_chatbot(user_query):\n",
    "    if user_query == \"What is the total revenue?\":\n",
    "        return \"The total revenue is $211,915 million.\"\n",
    "    elif user_query == \"How has net income changed over the last year?\":\n",
    "        return \"The net income has decreased by 1% over the last year.\"\n",
    "    elif user_query == \"What are the total assets of a company?\":\n",
    "        return \"The total assets amount to $411,976 million.\"\n",
    "    elif user_query == \"What is the cash flow from operating activities?\":\n",
    "        return \"The cash flow from operating activities is $87,582 million.\"\n",
    "    else:\n",
    "        return \"Sorry, I can only provide information on predefined queries.\"\n",
    "\n",
    "# Test the chatbot\n",
    "print(simple_chatbot(\"What is the total revenue?\"))\n",
    "print(simple_chatbot(\"How has net income changed over the last year?\"))\n",
    "print(simple_chatbot(\"What are the total assets of a company?\"))\n",
    "print(simple_chatbot(\"What is the cash flow from operating activities?\"))\n",
    "print(simple_chatbot(\"Can you tell me about the profit margin?\"))\n"
   ]
  },
  {
   "cell_type": "markdown",
   "id": "e5c1be04-654f-4b0b-8d5d-b9eecb0da013",
   "metadata": {},
   "source": [
    "Following are the findings based on the analysis:\n",
    "Based on the analysis of the financial data from Microsoft, Tesla, and Apple, several key observations and insights can be derived:\n",
    "\n",
    "1. Revenue Growth Trends:\n",
    "   - Apple exhibited consistent positive revenue growth over the three fiscal years, with a mean growth rate of approximately 15.08%. This indicates a strong revenue generation performance.\n",
    "   - Microsoft experienced negative revenue growth, with a mean decline of around 10.83%. This suggests challenges or slowdowns in revenue generation for Microsoft during the analyzed period.\n",
    "   - Tesla's revenue growth was the most volatile, showing a significant decline with a mean of approximately -25.49%. This volatility may be attributed to fluctuations in demand, production issues, or other operational factors.\n",
    "\n",
    "2. Net Income Performance:\n",
    "   - Apple demonstrated relatively stable net income growth, with a mean decrease of only -1.12%. Despite fluctuations, Apple maintained profitability across the fiscal years.\n",
    "   - Microsoft experienced a decline in net income similar to its revenue, with a mean decrease of around -7.62%. This indicates that the revenue decline had a significant impact on Microsoft's bottom line.\n",
    "   - Tesla exhibited the most substantial decline in net income, with a mean decrease of approximately -35.55%. This sharp decline may raise concerns about Tesla's profitability and operational efficiency.\n",
    "\n",
    "3. Financial Health Indicators:\n",
    "   - Total assets and total liabilities increased across all three companies over the analyzed period. This suggests overall growth in their asset bases and potential expansions in operations or acquisitions.\n",
    "   - However, the rate of increase in total liabilities outpaced that of total assets for Tesla, indicating a potential increase in debt burden relative to asset growth. This could raise concerns about Tesla's financial leverage and solvency.\n",
    "\n",
    "4. Operational Cash Flow:\n",
    "   - Apple and Microsoft both demonstrated positive trends in operating cash flow, indicating their ability to generate cash from core business activities.\n",
    "   - Tesla's operating cash flow also increased, albeit with some fluctuations. However, its magnitude was notably lower than Apple and Microsoft, potentially reflecting challenges in cash generation or higher capital expenditure requirements.\n",
    "\n",
    "5. Industry and Market Dynamics:\n",
    "   - It's essential to consider broader industry and market dynamics when interpreting the financial performance of these companies. Factors such as technological innovation, competition, regulatory changes, and macroeconomic conditions can significantly influence their financial results.\n",
    "\n",
    "While Apple exhibited robust revenue growth and maintained profitability, Microsoft faced declining revenue and net income challenges. Tesla showed significant revenue volatility and experienced a substantial decline in net income, raising questions about its profitability and financial sustainability. "
   ]
  },
  {
   "cell_type": "markdown",
   "id": "031e9d6a-82e2-406e-b70c-ace95e7be164",
   "metadata": {},
   "source": [
    " Methodology:\n",
    "\n",
    "Data Extraction:\n",
    "We obtained the 10-K filings for Microsoft, Tesla, and Apple from the SEC's EDGAR database for the last three fiscal years. The filings were manually reviewed, and the relevant financial figures, including Total Revenue, Net Income, Total Assets, Total Liabilities, and Cash Flow from Operating Activities, were extracted.\n",
    "\n",
    "Data Preprocessing:\n",
    "The extracted data underwent preprocessing to ensure accuracy and consistency. This involved cleaning the data to address missing values, removing duplicates, and standardizing formatting. Additionally, financial figures were converted to numeric data types for analysis.\n",
    "\n",
    "**Analysis Techniques:*\n",
    "We calculated year-over-year growth rates for Total Revenue and Net Income using pandas in Python. The percentage change was computed for each fiscal year to identify trends and assess the financial performance of each company over time. Summary statistics and visualizations were generated to further analyze the data and visualize the trends.\n",
    "\n",
    "**Assumptions:**\n",
    "It was assumed that the 10-K filings provided accurate and complete financial information for the specified fiscal years. Additionally, the analysis focused solely on the provided financial metrics and did not incorporate external factors that may influence the financial performance of the companies."
   ]
  }
 ],
 "metadata": {
  "kernelspec": {
   "display_name": "Python 3 (ipykernel)",
   "language": "python",
   "name": "python3"
  },
  "language_info": {
   "codemirror_mode": {
    "name": "ipython",
    "version": 3
   },
   "file_extension": ".py",
   "mimetype": "text/x-python",
   "name": "python",
   "nbconvert_exporter": "python",
   "pygments_lexer": "ipython3",
   "version": "3.9.2"
  }
 },
 "nbformat": 4,
 "nbformat_minor": 5
}
