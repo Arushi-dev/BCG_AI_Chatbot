{
 "cells": [
  {
   "cell_type": "code",
   "execution_count": 1,
   "id": "bc526c85-f2cd-43f4-94d3-0220d9821305",
   "metadata": {},
   "outputs": [],
   "source": [
    "import pandas as pd\n"
   ]
  },
  {
   "cell_type": "code",
   "execution_count": 2,
   "id": "ab318ec2-ad8d-4ca4-becc-0c7514932116",
   "metadata": {},
   "outputs": [
    {
     "name": "stdout",
     "output_type": "stream",
     "text": [
      "     Company  Fiscal Year Total Revenue(millions) Net income(millions)  \\\n",
      "0  Microsoft         2023                2,11,915               72,361   \n",
      "1  Microsoft         2022                1,98,270               72,738   \n",
      "2  Microsoft         2021                1,68,088               61,271   \n",
      "3      Tesla         2023                  96,773               14,974   \n",
      "4      Tesla         2022                  81,462               12,587   \n",
      "\n",
      "  Total Assets(millions) Total liabilities(millions)  \\\n",
      "0               4,11,976                    2,05,753   \n",
      "1               3,64,840                    1,98,298   \n",
      "2               3,33,779                    1,91,791   \n",
      "3               1,06,618                      43,009   \n",
      "4                 82,338                      36,440   \n",
      "\n",
      "  CashFlow from Operating Activities(millions)  \n",
      "0                                       87,582  \n",
      "1                                       89,035  \n",
      "2                                       76,740  \n",
      "3                                       13,256  \n",
      "4                                       14,724  \n"
     ]
    }
   ],
   "source": [
    "import pandas as pd\n",
    "\n",
    "# Define the file path\n",
    "file_path = '/Users/rudra/Downloads/10-k fillings BCG.csv'\n",
    "\n",
    "# Read the CSV file into a pandas DataFrame\n",
    "df = pd.read_csv(file_path)\n",
    "\n",
    "# Display the first few rows of the DataFrame to verify that the data has been loaded correctly\n",
    "print(df.head())\n"
   ]
  },
  {
   "cell_type": "code",
   "execution_count": 3,
   "id": "a304ebcf-f716-40e7-8802-74dcf0d39352",
   "metadata": {},
   "outputs": [
    {
     "name": "stdout",
     "output_type": "stream",
     "text": [
      "The total revenue is $211,915 million.\n",
      "The net income has decreased by 1% over the last year.\n",
      "The total assets amount to $411,976 million.\n",
      "The cash flow from operating activities is $87,582 million.\n",
      "Sorry, I can only provide information on predefined queries.\n"
     ]
    }
   ],
   "source": [
    "def simple_chatbot(user_query):\n",
    "    if user_query == \"What is the total revenue?\":\n",
    "        return \"The total revenue is $211,915 million.\"\n",
    "    elif user_query == \"How has net income changed over the last year?\":\n",
    "        return \"The net income has decreased by 1% over the last year.\"\n",
    "    elif user_query == \"What are the total assets of a company?\":\n",
    "        return \"The total assets amount to $411,976 million.\"\n",
    "    elif user_query == \"What is the cash flow from operating activities?\":\n",
    "        return \"The cash flow from operating activities is $87,582 million.\"\n",
    "    else:\n",
    "        return \"Sorry, I can only provide information on predefined queries.\"\n",
    "\n",
    "# Test the chatbot\n",
    "print(simple_chatbot(\"What is the total revenue?\"))\n",
    "print(simple_chatbot(\"How has net income changed over the last year?\"))\n",
    "print(simple_chatbot(\"What are the total assets of a company?\"))\n",
    "print(simple_chatbot(\"What is the cash flow from operating activities?\"))\n",
    "print(simple_chatbot(\"Can you tell me about the profit margin?\"))\n"
   ]
  },
  {
   "cell_type": "code",
   "execution_count": null,
   "id": "aaf78e46-e8c5-467c-971e-53fa9a03816e",
   "metadata": {},
   "outputs": [],
   "source": []
  }
 ],
 "metadata": {
  "kernelspec": {
   "display_name": "Python 3 (ipykernel)",
   "language": "python",
   "name": "python3"
  },
  "language_info": {
   "codemirror_mode": {
    "name": "ipython",
    "version": 3
   },
   "file_extension": ".py",
   "mimetype": "text/x-python",
   "name": "python",
   "nbconvert_exporter": "python",
   "pygments_lexer": "ipython3",
   "version": "3.9.2"
  }
 },
 "nbformat": 4,
 "nbformat_minor": 5
}
